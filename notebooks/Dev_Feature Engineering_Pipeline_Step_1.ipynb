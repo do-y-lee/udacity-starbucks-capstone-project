{
 "cells": [
  {
   "cell_type": "markdown",
   "metadata": {},
   "source": [
    "## Data Sets\n",
    "\n",
    "The data is contained in three files:\n",
    "\n",
    "* portfolio.json - containing offer ids and meta data about each offer (duration, type, etc.)\n",
    "* profile.json - demographic data for each customer\n",
    "* transcript.json - records for transactions, offers received, offers viewed, and offers completed\n",
    "\n",
    "Here is the schema and explanation of each variable in the files:\n",
    "\n",
    "**portfolio.json**\n",
    "* id (string) - offer id\n",
    "* offer_type (string) - type of offer ie BOGO, discount, informational\n",
    "* difficulty (int) - minimum required spend to complete an offer\n",
    "* reward (int) - reward given for completing an offer\n",
    "* duration (int) - time for offer to be open, in days\n",
    "* channels (list of strings)\n",
    "\n",
    "**profile.json**\n",
    "* age (int) - age of the customer \n",
    "* became_member_on (int) - date when customer created an app account\n",
    "* gender (str) - gender of the customer (note some entries contain 'O' for other rather than M or F)\n",
    "* id (str) - customer id\n",
    "* income (float) - customer's income\n",
    "\n",
    "**transcript.json**\n",
    "* event (str) - record description (ie transaction, offer received, offer viewed, etc.)\n",
    "* person (str) - customer id\n",
    "* time (int) - time in hours since start of test. The data begins at time t=0\n",
    "* value - (dict of strings) - either an offer id or transaction amount depending on the record\n"
   ]
  },
  {
   "cell_type": "markdown",
   "metadata": {},
   "source": [
    "## Goal\n",
    "* Create X_train and X_test version 1"
   ]
  },
  {
   "cell_type": "markdown",
   "metadata": {},
   "source": [
    "## Aggregated and Engineered Features\n",
    "* gender\n",
    "* age\n",
    "* age_quantile_range\n",
    "* age_quantile_label\n",
    "* __customer_id__\n",
    "* date_registered\n",
    "* days_registered\n",
    "* days_reg_quantile_range\n",
    "* days_reg_quantile_label\n",
    "* income\n",
    "* income_quantile_range\n",
    "* income_quantile_label\n",
    "* transaction_amount\n",
    "* transaction_cnt\n",
    "* transaction_aos\n",
    "* gender_NA\n",
    "* income_NA\n",
    "* age_NA\n",
    "* num_offer_received\n",
    "* num_bogo_offer_received\n",
    "* num_info_offer_received\n",
    "* num_discount_offer_received\n",
    "* num_offer_viewed\n",
    "* num_offer_completed\n",
    "* num_offer_completed_viewed\n",
    "* num_offer_completed_not_viewed\n",
    "* num_transactions_no_oc\n",
    "* num_transactions_oc_direct\n",
    "* percent_oc_direct_transactions\n",
    "* num_transactions_oc_indirect\n",
    "* offer_view_rate\n",
    "* offer_completion_rate\n",
    "* total_reward_amount\n",
    "* avg_reward_per_oc_transaction\n",
    "* transaction_oc_amount\n",
    "* transaction_aos_oc\n",
    "* transaction_no_oc_amount\n",
    "* transaction_aos_no_oc\n",
    "* num_bogo_offer_viewed\n",
    "* num_info_offer_viewed\n",
    "* num_discount_offer_viewed\n",
    "* num_bogo_offer_completed\n",
    "* num_info_offer_completed\n",
    "* num_discount_offer_completed\n",
    "* median_offer_duration\n",
    "* avg_offer_completion_time\n",
    "* avg_hrs_bw_transactions\n",
    "* num_oc_ch_web\n",
    "* num_oc_ch_social\n",
    "* num_oc_ch_mobile\n",
    "* num_oc_ch_email\n",
    "* avg_offered_received_freq\n",
    "* info_view_rate\n"
   ]
  },
  {
   "cell_type": "markdown",
   "metadata": {},
   "source": [
    "## Insights\n",
    "\n",
    "* Number of customers who have completed offers is high with 77% of all converted customers have used offers\n",
    "* 97.5% of customers in profile have converted at least once. Conversion isn't the problem, but benefits of offers might be looked at deeper. Does it increase spend?\n",
    "* Although 77% of customers have at least one offer completed, but % of transactions with offer completed stands at about 22%\n",
    "* Takeaway: A lot of customers have been exposed and used offers at least once at some point, but only about quarter of transactions are associated with offer-completed."
   ]
  },
  {
   "cell_type": "code",
   "execution_count": 1,
   "metadata": {},
   "outputs": [],
   "source": [
    "%matplotlib inline\n",
    "import os\n",
    "import pandas as pd\n",
    "import numpy as np\n",
    "import matplotlib.pyplot as plt\n",
    "from datetime import datetime\n",
    "\n",
    "import warnings\n",
    "warnings.filterwarnings('ignore')\n",
    "warnings.simplefilter('ignore')\n",
    "\n",
    "import sys\n",
    "sys.path.insert(0, '..')\n",
    "from base_transforms import BaseTransformDF"
   ]
  },
  {
   "cell_type": "code",
   "execution_count": 2,
   "metadata": {},
   "outputs": [
    {
     "name": "stdout",
     "output_type": "stream",
     "text": [
      "/usr/local/opt/curl/bin:/opt/anaconda3/envs/udacity-starbucks-capstone-project/bin:/opt/anaconda3/condabin:/Users/dlee/.nvm/v0.10.40/bin:/usr/local/bin:/usr/bin:/bin:/usr/sbin:/sbin\r\n"
     ]
    }
   ],
   "source": [
    "! echo $PATH"
   ]
  },
  {
   "cell_type": "code",
   "execution_count": 3,
   "metadata": {},
   "outputs": [
    {
     "data": {
      "text/plain": [
       "['..',\n",
       " '/Users/dlee/ds/repos/udacity-starbucks-capstone-project/notebooks',\n",
       " '/opt/anaconda3/envs/udacity-starbucks-capstone-project/lib/python37.zip',\n",
       " '/opt/anaconda3/envs/udacity-starbucks-capstone-project/lib/python3.7',\n",
       " '/opt/anaconda3/envs/udacity-starbucks-capstone-project/lib/python3.7/lib-dynload',\n",
       " '',\n",
       " '/opt/anaconda3/envs/udacity-starbucks-capstone-project/lib/python3.7/site-packages',\n",
       " '/opt/anaconda3/envs/udacity-starbucks-capstone-project/lib/python3.7/site-packages/locket-0.2.1-py3.7.egg',\n",
       " '/opt/anaconda3/envs/udacity-starbucks-capstone-project/lib/python3.7/site-packages/IPython/extensions',\n",
       " '/Users/dlee/.ipython']"
      ]
     },
     "execution_count": 3,
     "metadata": {},
     "output_type": "execute_result"
    }
   ],
   "source": [
    "sys.path"
   ]
  },
  {
   "cell_type": "markdown",
   "metadata": {},
   "source": [
    "## starbucks_transaction_engagement.csv.gz"
   ]
  },
  {
   "cell_type": "code",
   "execution_count": 5,
   "metadata": {},
   "outputs": [
    {
     "name": "stdout",
     "output_type": "stream",
     "text": [
      "CPU times: user 588 ms, sys: 65.1 ms, total: 653 ms\n",
      "Wall time: 654 ms\n"
     ]
    },
    {
     "data": {
      "text/html": [
       "<div>\n",
       "<style scoped>\n",
       "    .dataframe tbody tr th:only-of-type {\n",
       "        vertical-align: middle;\n",
       "    }\n",
       "\n",
       "    .dataframe tbody tr th {\n",
       "        vertical-align: top;\n",
       "    }\n",
       "\n",
       "    .dataframe thead th {\n",
       "        text-align: right;\n",
       "    }\n",
       "</style>\n",
       "<table border=\"1\" class=\"dataframe\">\n",
       "  <thead>\n",
       "    <tr style=\"text-align: right;\">\n",
       "      <th></th>\n",
       "      <th>record_id</th>\n",
       "      <th>transaction_id</th>\n",
       "      <th>customer_id</th>\n",
       "      <th>transaction_time</th>\n",
       "      <th>transaction_amount</th>\n",
       "      <th>offer_completed</th>\n",
       "      <th>offer_completed_time</th>\n",
       "      <th>offer_id</th>\n",
       "      <th>offer_received</th>\n",
       "      <th>offer_received_time</th>\n",
       "      <th>offer_viewed</th>\n",
       "      <th>offer_viewed_time</th>\n",
       "      <th>reward</th>\n",
       "      <th>difficulty</th>\n",
       "      <th>duration</th>\n",
       "      <th>num_channels</th>\n",
       "      <th>ch_web</th>\n",
       "      <th>ch_email</th>\n",
       "      <th>ch_mobile</th>\n",
       "      <th>ch_social</th>\n",
       "      <th>type_bogo</th>\n",
       "      <th>type_informational</th>\n",
       "      <th>type_discount</th>\n",
       "    </tr>\n",
       "  </thead>\n",
       "  <tbody>\n",
       "    <tr>\n",
       "      <th>0</th>\n",
       "      <td>58bf145c78c443ab8a30f358c5366df3</td>\n",
       "      <td>ade32d0843cd496c9a50489e63db682d</td>\n",
       "      <td>02c083884c7d45b39cc68e1314fec56c</td>\n",
       "      <td>0</td>\n",
       "      <td>0.83</td>\n",
       "      <td>0</td>\n",
       "      <td>-1</td>\n",
       "      <td>no-offer</td>\n",
       "      <td>0</td>\n",
       "      <td>-1</td>\n",
       "      <td>0</td>\n",
       "      <td>-1</td>\n",
       "      <td>0.0</td>\n",
       "      <td>0.0</td>\n",
       "      <td>0.0</td>\n",
       "      <td>0.0</td>\n",
       "      <td>0.0</td>\n",
       "      <td>0.0</td>\n",
       "      <td>0.0</td>\n",
       "      <td>0.0</td>\n",
       "      <td>0.0</td>\n",
       "      <td>0.0</td>\n",
       "      <td>0.0</td>\n",
       "    </tr>\n",
       "    <tr>\n",
       "      <th>1</th>\n",
       "      <td>177f4b3890ee48e7ad802f3da8d88fbb</td>\n",
       "      <td>7f400c9706c9474a998163ab71d5f7d5</td>\n",
       "      <td>9fa9ae8f57894cc9a3b8a9bbe0fc1b2f</td>\n",
       "      <td>0</td>\n",
       "      <td>34.56</td>\n",
       "      <td>1</td>\n",
       "      <td>0</td>\n",
       "      <td>2906b810c7d4411798c6938adc9daaa5</td>\n",
       "      <td>1</td>\n",
       "      <td>0</td>\n",
       "      <td>1</td>\n",
       "      <td>0</td>\n",
       "      <td>2.0</td>\n",
       "      <td>10.0</td>\n",
       "      <td>168.0</td>\n",
       "      <td>3.0</td>\n",
       "      <td>1.0</td>\n",
       "      <td>1.0</td>\n",
       "      <td>1.0</td>\n",
       "      <td>0.0</td>\n",
       "      <td>0.0</td>\n",
       "      <td>0.0</td>\n",
       "      <td>1.0</td>\n",
       "    </tr>\n",
       "    <tr>\n",
       "      <th>2</th>\n",
       "      <td>72b8956eb18f4fd1b8529756b0c49891</td>\n",
       "      <td>b646978a8d3e43e2ae9ee0320f7853a7</td>\n",
       "      <td>54890f68699049c2a04d415abc25e717</td>\n",
       "      <td>0</td>\n",
       "      <td>13.23</td>\n",
       "      <td>0</td>\n",
       "      <td>-1</td>\n",
       "      <td>no-offer</td>\n",
       "      <td>0</td>\n",
       "      <td>-1</td>\n",
       "      <td>0</td>\n",
       "      <td>-1</td>\n",
       "      <td>0.0</td>\n",
       "      <td>0.0</td>\n",
       "      <td>0.0</td>\n",
       "      <td>0.0</td>\n",
       "      <td>0.0</td>\n",
       "      <td>0.0</td>\n",
       "      <td>0.0</td>\n",
       "      <td>0.0</td>\n",
       "      <td>0.0</td>\n",
       "      <td>0.0</td>\n",
       "      <td>0.0</td>\n",
       "    </tr>\n",
       "    <tr>\n",
       "      <th>3</th>\n",
       "      <td>8723f4108ad5402a89c083d76a4208d3</td>\n",
       "      <td>00b7f2a712af4ff79b622117024eb6c5</td>\n",
       "      <td>b2f1cd155b864803ad8334cdf13c4bd2</td>\n",
       "      <td>0</td>\n",
       "      <td>19.51</td>\n",
       "      <td>0</td>\n",
       "      <td>-1</td>\n",
       "      <td>no-offer</td>\n",
       "      <td>0</td>\n",
       "      <td>-1</td>\n",
       "      <td>0</td>\n",
       "      <td>-1</td>\n",
       "      <td>0.0</td>\n",
       "      <td>0.0</td>\n",
       "      <td>0.0</td>\n",
       "      <td>0.0</td>\n",
       "      <td>0.0</td>\n",
       "      <td>0.0</td>\n",
       "      <td>0.0</td>\n",
       "      <td>0.0</td>\n",
       "      <td>0.0</td>\n",
       "      <td>0.0</td>\n",
       "      <td>0.0</td>\n",
       "    </tr>\n",
       "    <tr>\n",
       "      <th>4</th>\n",
       "      <td>5e905d5ca7444f0b992edad9866ad4ed</td>\n",
       "      <td>b3ac815535d941dd86e945dc03f750b8</td>\n",
       "      <td>fe97aa22dd3e48c8b143116a8403dd52</td>\n",
       "      <td>0</td>\n",
       "      <td>18.97</td>\n",
       "      <td>1</td>\n",
       "      <td>0</td>\n",
       "      <td>fafdcd668e3743c1bb461111dcafc2a4</td>\n",
       "      <td>1</td>\n",
       "      <td>0</td>\n",
       "      <td>0</td>\n",
       "      <td>-1</td>\n",
       "      <td>2.0</td>\n",
       "      <td>10.0</td>\n",
       "      <td>240.0</td>\n",
       "      <td>4.0</td>\n",
       "      <td>1.0</td>\n",
       "      <td>1.0</td>\n",
       "      <td>1.0</td>\n",
       "      <td>1.0</td>\n",
       "      <td>0.0</td>\n",
       "      <td>0.0</td>\n",
       "      <td>1.0</td>\n",
       "    </tr>\n",
       "  </tbody>\n",
       "</table>\n",
       "</div>"
      ],
      "text/plain": [
       "                          record_id                    transaction_id  \\\n",
       "0  58bf145c78c443ab8a30f358c5366df3  ade32d0843cd496c9a50489e63db682d   \n",
       "1  177f4b3890ee48e7ad802f3da8d88fbb  7f400c9706c9474a998163ab71d5f7d5   \n",
       "2  72b8956eb18f4fd1b8529756b0c49891  b646978a8d3e43e2ae9ee0320f7853a7   \n",
       "3  8723f4108ad5402a89c083d76a4208d3  00b7f2a712af4ff79b622117024eb6c5   \n",
       "4  5e905d5ca7444f0b992edad9866ad4ed  b3ac815535d941dd86e945dc03f750b8   \n",
       "\n",
       "                        customer_id  transaction_time  transaction_amount  \\\n",
       "0  02c083884c7d45b39cc68e1314fec56c                 0                0.83   \n",
       "1  9fa9ae8f57894cc9a3b8a9bbe0fc1b2f                 0               34.56   \n",
       "2  54890f68699049c2a04d415abc25e717                 0               13.23   \n",
       "3  b2f1cd155b864803ad8334cdf13c4bd2                 0               19.51   \n",
       "4  fe97aa22dd3e48c8b143116a8403dd52                 0               18.97   \n",
       "\n",
       "   offer_completed  offer_completed_time                          offer_id  \\\n",
       "0                0                    -1                          no-offer   \n",
       "1                1                     0  2906b810c7d4411798c6938adc9daaa5   \n",
       "2                0                    -1                          no-offer   \n",
       "3                0                    -1                          no-offer   \n",
       "4                1                     0  fafdcd668e3743c1bb461111dcafc2a4   \n",
       "\n",
       "   offer_received  offer_received_time  offer_viewed  offer_viewed_time  \\\n",
       "0               0                   -1             0                 -1   \n",
       "1               1                    0             1                  0   \n",
       "2               0                   -1             0                 -1   \n",
       "3               0                   -1             0                 -1   \n",
       "4               1                    0             0                 -1   \n",
       "\n",
       "   reward  difficulty  duration  num_channels  ch_web  ch_email  ch_mobile  \\\n",
       "0     0.0         0.0       0.0           0.0     0.0       0.0        0.0   \n",
       "1     2.0        10.0     168.0           3.0     1.0       1.0        1.0   \n",
       "2     0.0         0.0       0.0           0.0     0.0       0.0        0.0   \n",
       "3     0.0         0.0       0.0           0.0     0.0       0.0        0.0   \n",
       "4     2.0        10.0     240.0           4.0     1.0       1.0        1.0   \n",
       "\n",
       "   ch_social  type_bogo  type_informational  type_discount  \n",
       "0        0.0        0.0                 0.0            0.0  \n",
       "1        0.0        0.0                 0.0            1.0  \n",
       "2        0.0        0.0                 0.0            0.0  \n",
       "3        0.0        0.0                 0.0            0.0  \n",
       "4        1.0        0.0                 0.0            1.0  "
      ]
     },
     "execution_count": 5,
     "metadata": {},
     "output_type": "execute_result"
    }
   ],
   "source": [
    "%%time\n",
    "\n",
    "pd.set_option('display.max_columns', None)\n",
    "# pd.set_option('display.max_rows', <number of rows>)\n",
    "\n",
    "trans_engage = pd.read_csv('../data/starbucks_transaction_engagement.csv.gz', compression='gzip')\n",
    "trans_engage.head()"
   ]
  },
  {
   "cell_type": "markdown",
   "metadata": {},
   "source": [
    "## Train & Test Split"
   ]
  },
  {
   "cell_type": "code",
   "execution_count": 6,
   "metadata": {},
   "outputs": [
    {
     "data": {
      "text/html": [
       "<div>\n",
       "<style scoped>\n",
       "    .dataframe tbody tr th:only-of-type {\n",
       "        vertical-align: middle;\n",
       "    }\n",
       "\n",
       "    .dataframe tbody tr th {\n",
       "        vertical-align: top;\n",
       "    }\n",
       "\n",
       "    .dataframe thead th {\n",
       "        text-align: right;\n",
       "    }\n",
       "</style>\n",
       "<table border=\"1\" class=\"dataframe\">\n",
       "  <thead>\n",
       "    <tr style=\"text-align: right;\">\n",
       "      <th></th>\n",
       "      <th>column_name</th>\n",
       "      <th>missing_values</th>\n",
       "    </tr>\n",
       "  </thead>\n",
       "  <tbody>\n",
       "    <tr>\n",
       "      <th>0</th>\n",
       "      <td>gender</td>\n",
       "      <td>0.127941</td>\n",
       "    </tr>\n",
       "    <tr>\n",
       "      <th>1</th>\n",
       "      <td>age</td>\n",
       "      <td>0.000000</td>\n",
       "    </tr>\n",
       "    <tr>\n",
       "      <th>2</th>\n",
       "      <td>customer_id</td>\n",
       "      <td>0.000000</td>\n",
       "    </tr>\n",
       "    <tr>\n",
       "      <th>3</th>\n",
       "      <td>date_registered</td>\n",
       "      <td>0.000000</td>\n",
       "    </tr>\n",
       "    <tr>\n",
       "      <th>4</th>\n",
       "      <td>income</td>\n",
       "      <td>0.127941</td>\n",
       "    </tr>\n",
       "  </tbody>\n",
       "</table>\n",
       "</div>"
      ],
      "text/plain": [
       "       column_name  missing_values\n",
       "0           gender        0.127941\n",
       "1              age        0.000000\n",
       "2      customer_id        0.000000\n",
       "3  date_registered        0.000000\n",
       "4           income        0.127941"
      ]
     },
     "execution_count": 6,
     "metadata": {},
     "output_type": "execute_result"
    }
   ],
   "source": [
    "# read in the json files\n",
    "profile = pd.read_json('../data/profile.json', orient='records', lines=True)\n",
    "profile = profile.rename(columns={'id': 'customer_id', 'became_member_on': 'date_registered'})\n",
    "profile['date_registered'] = profile['date_registered'].apply(lambda x: datetime.strptime(str(x), \"%Y%m%d\"))\n",
    "\n",
    "profile.isnull().mean().reset_index().rename(columns={'index':'column_name', 0:'missing_values'})"
   ]
  },
  {
   "cell_type": "code",
   "execution_count": 7,
   "metadata": {},
   "outputs": [
    {
     "data": {
      "text/html": [
       "<div>\n",
       "<style scoped>\n",
       "    .dataframe tbody tr th:only-of-type {\n",
       "        vertical-align: middle;\n",
       "    }\n",
       "\n",
       "    .dataframe tbody tr th {\n",
       "        vertical-align: top;\n",
       "    }\n",
       "\n",
       "    .dataframe thead th {\n",
       "        text-align: right;\n",
       "    }\n",
       "</style>\n",
       "<table border=\"1\" class=\"dataframe\">\n",
       "  <thead>\n",
       "    <tr style=\"text-align: right;\">\n",
       "      <th></th>\n",
       "      <th>gender</th>\n",
       "      <th>age</th>\n",
       "      <th>customer_id</th>\n",
       "      <th>date_registered</th>\n",
       "      <th>income</th>\n",
       "    </tr>\n",
       "  </thead>\n",
       "  <tbody>\n",
       "    <tr>\n",
       "      <th>0</th>\n",
       "      <td>None</td>\n",
       "      <td>118</td>\n",
       "      <td>68be06ca386d4c31939f3a4f0e3dd783</td>\n",
       "      <td>2017-02-12</td>\n",
       "      <td>NaN</td>\n",
       "    </tr>\n",
       "    <tr>\n",
       "      <th>1</th>\n",
       "      <td>F</td>\n",
       "      <td>55</td>\n",
       "      <td>0610b486422d4921ae7d2bf64640c50b</td>\n",
       "      <td>2017-07-15</td>\n",
       "      <td>112000.0</td>\n",
       "    </tr>\n",
       "    <tr>\n",
       "      <th>2</th>\n",
       "      <td>None</td>\n",
       "      <td>118</td>\n",
       "      <td>38fe809add3b4fcf9315a9694bb96ff5</td>\n",
       "      <td>2018-07-12</td>\n",
       "      <td>NaN</td>\n",
       "    </tr>\n",
       "    <tr>\n",
       "      <th>3</th>\n",
       "      <td>F</td>\n",
       "      <td>75</td>\n",
       "      <td>78afa995795e4d85b5d9ceeca43f5fef</td>\n",
       "      <td>2017-05-09</td>\n",
       "      <td>100000.0</td>\n",
       "    </tr>\n",
       "    <tr>\n",
       "      <th>4</th>\n",
       "      <td>None</td>\n",
       "      <td>118</td>\n",
       "      <td>a03223e636434f42ac4c3df47e8bac43</td>\n",
       "      <td>2017-08-04</td>\n",
       "      <td>NaN</td>\n",
       "    </tr>\n",
       "  </tbody>\n",
       "</table>\n",
       "</div>"
      ],
      "text/plain": [
       "  gender  age                       customer_id date_registered    income\n",
       "0   None  118  68be06ca386d4c31939f3a4f0e3dd783      2017-02-12       NaN\n",
       "1      F   55  0610b486422d4921ae7d2bf64640c50b      2017-07-15  112000.0\n",
       "2   None  118  38fe809add3b4fcf9315a9694bb96ff5      2018-07-12       NaN\n",
       "3      F   75  78afa995795e4d85b5d9ceeca43f5fef      2017-05-09  100000.0\n",
       "4   None  118  a03223e636434f42ac4c3df47e8bac43      2017-08-04       NaN"
      ]
     },
     "execution_count": 7,
     "metadata": {},
     "output_type": "execute_result"
    }
   ],
   "source": [
    "profile.head()"
   ]
  },
  {
   "cell_type": "code",
   "execution_count": 8,
   "metadata": {},
   "outputs": [
    {
     "data": {
      "text/html": [
       "<div>\n",
       "<style scoped>\n",
       "    .dataframe tbody tr th:only-of-type {\n",
       "        vertical-align: middle;\n",
       "    }\n",
       "\n",
       "    .dataframe tbody tr th {\n",
       "        vertical-align: top;\n",
       "    }\n",
       "\n",
       "    .dataframe thead th {\n",
       "        text-align: right;\n",
       "    }\n",
       "</style>\n",
       "<table border=\"1\" class=\"dataframe\">\n",
       "  <thead>\n",
       "    <tr style=\"text-align: right;\">\n",
       "      <th></th>\n",
       "      <th>customer_id</th>\n",
       "      <th>transaction_amount</th>\n",
       "      <th>transaction_cnt</th>\n",
       "      <th>transaction_aos</th>\n",
       "    </tr>\n",
       "  </thead>\n",
       "  <tbody>\n",
       "    <tr>\n",
       "      <th>0</th>\n",
       "      <td>0009655768c64bdeb2e877511632db8f</td>\n",
       "      <td>127.60</td>\n",
       "      <td>8</td>\n",
       "      <td>15.95</td>\n",
       "    </tr>\n",
       "    <tr>\n",
       "      <th>1</th>\n",
       "      <td>00116118485d4dfda04fdbaba9a87b5c</td>\n",
       "      <td>4.09</td>\n",
       "      <td>3</td>\n",
       "      <td>1.36</td>\n",
       "    </tr>\n",
       "    <tr>\n",
       "      <th>2</th>\n",
       "      <td>0011e0d4e6b944f998e987f904e8c1e5</td>\n",
       "      <td>101.51</td>\n",
       "      <td>5</td>\n",
       "      <td>20.30</td>\n",
       "    </tr>\n",
       "    <tr>\n",
       "      <th>3</th>\n",
       "      <td>0020c2b971eb4e9188eac86d93036a77</td>\n",
       "      <td>214.10</td>\n",
       "      <td>8</td>\n",
       "      <td>26.76</td>\n",
       "    </tr>\n",
       "    <tr>\n",
       "      <th>4</th>\n",
       "      <td>0020ccbbb6d84e358d3414a3ff76cffd</td>\n",
       "      <td>154.05</td>\n",
       "      <td>12</td>\n",
       "      <td>12.84</td>\n",
       "    </tr>\n",
       "  </tbody>\n",
       "</table>\n",
       "</div>"
      ],
      "text/plain": [
       "                        customer_id  transaction_amount  transaction_cnt  \\\n",
       "0  0009655768c64bdeb2e877511632db8f              127.60                8   \n",
       "1  00116118485d4dfda04fdbaba9a87b5c                4.09                3   \n",
       "2  0011e0d4e6b944f998e987f904e8c1e5              101.51                5   \n",
       "3  0020c2b971eb4e9188eac86d93036a77              214.10                8   \n",
       "4  0020ccbbb6d84e358d3414a3ff76cffd              154.05               12   \n",
       "\n",
       "   transaction_aos  \n",
       "0            15.95  \n",
       "1             1.36  \n",
       "2            20.30  \n",
       "3            26.76  \n",
       "4            12.84  "
      ]
     },
     "execution_count": 8,
     "metadata": {},
     "output_type": "execute_result"
    }
   ],
   "source": [
    "# calculate total transactions and total transaction amount per customer_id \n",
    "rename_columns={'transaction_id': 'transaction_cnt'}\n",
    "transaction_cnt = trans_engage.groupby('customer_id')['transaction_id'].nunique().reset_index().rename(columns=rename_columns)\n",
    "\n",
    "transaction_amount = trans_engage.groupby('customer_id')['transaction_amount'].sum().reset_index()\n",
    "\n",
    "transactions = transaction_amount.merge(transaction_cnt, how='left', on='customer_id')\n",
    "transactions['transaction_aos'] = round(1.0 * transactions['transaction_amount'] / transactions['transaction_cnt'], 2)\n",
    "\n",
    "transactions.head()\n"
   ]
  },
  {
   "cell_type": "code",
   "execution_count": 9,
   "metadata": {},
   "outputs": [
    {
     "data": {
      "text/html": [
       "<div>\n",
       "<style scoped>\n",
       "    .dataframe tbody tr th:only-of-type {\n",
       "        vertical-align: middle;\n",
       "    }\n",
       "\n",
       "    .dataframe tbody tr th {\n",
       "        vertical-align: top;\n",
       "    }\n",
       "\n",
       "    .dataframe thead th {\n",
       "        text-align: right;\n",
       "    }\n",
       "</style>\n",
       "<table border=\"1\" class=\"dataframe\">\n",
       "  <thead>\n",
       "    <tr style=\"text-align: right;\">\n",
       "      <th></th>\n",
       "      <th>gender</th>\n",
       "      <th>age</th>\n",
       "      <th>customer_id</th>\n",
       "      <th>date_registered</th>\n",
       "      <th>income</th>\n",
       "      <th>transaction_amount</th>\n",
       "      <th>transaction_cnt</th>\n",
       "      <th>transaction_aos</th>\n",
       "    </tr>\n",
       "  </thead>\n",
       "  <tbody>\n",
       "    <tr>\n",
       "      <th>0</th>\n",
       "      <td>None</td>\n",
       "      <td>118</td>\n",
       "      <td>68be06ca386d4c31939f3a4f0e3dd783</td>\n",
       "      <td>2017-02-12</td>\n",
       "      <td>NaN</td>\n",
       "      <td>22.52</td>\n",
       "      <td>9.0</td>\n",
       "      <td>2.50</td>\n",
       "    </tr>\n",
       "    <tr>\n",
       "      <th>1</th>\n",
       "      <td>F</td>\n",
       "      <td>55</td>\n",
       "      <td>0610b486422d4921ae7d2bf64640c50b</td>\n",
       "      <td>2017-07-15</td>\n",
       "      <td>112000.0</td>\n",
       "      <td>77.01</td>\n",
       "      <td>3.0</td>\n",
       "      <td>25.67</td>\n",
       "    </tr>\n",
       "    <tr>\n",
       "      <th>2</th>\n",
       "      <td>None</td>\n",
       "      <td>118</td>\n",
       "      <td>38fe809add3b4fcf9315a9694bb96ff5</td>\n",
       "      <td>2018-07-12</td>\n",
       "      <td>NaN</td>\n",
       "      <td>14.30</td>\n",
       "      <td>6.0</td>\n",
       "      <td>2.38</td>\n",
       "    </tr>\n",
       "    <tr>\n",
       "      <th>3</th>\n",
       "      <td>F</td>\n",
       "      <td>75</td>\n",
       "      <td>78afa995795e4d85b5d9ceeca43f5fef</td>\n",
       "      <td>2017-05-09</td>\n",
       "      <td>100000.0</td>\n",
       "      <td>180.99</td>\n",
       "      <td>7.0</td>\n",
       "      <td>25.86</td>\n",
       "    </tr>\n",
       "    <tr>\n",
       "      <th>4</th>\n",
       "      <td>None</td>\n",
       "      <td>118</td>\n",
       "      <td>a03223e636434f42ac4c3df47e8bac43</td>\n",
       "      <td>2017-08-04</td>\n",
       "      <td>NaN</td>\n",
       "      <td>4.65</td>\n",
       "      <td>3.0</td>\n",
       "      <td>1.55</td>\n",
       "    </tr>\n",
       "  </tbody>\n",
       "</table>\n",
       "</div>"
      ],
      "text/plain": [
       "  gender  age                       customer_id date_registered    income  \\\n",
       "0   None  118  68be06ca386d4c31939f3a4f0e3dd783      2017-02-12       NaN   \n",
       "1      F   55  0610b486422d4921ae7d2bf64640c50b      2017-07-15  112000.0   \n",
       "2   None  118  38fe809add3b4fcf9315a9694bb96ff5      2018-07-12       NaN   \n",
       "3      F   75  78afa995795e4d85b5d9ceeca43f5fef      2017-05-09  100000.0   \n",
       "4   None  118  a03223e636434f42ac4c3df47e8bac43      2017-08-04       NaN   \n",
       "\n",
       "   transaction_amount  transaction_cnt  transaction_aos  \n",
       "0               22.52              9.0             2.50  \n",
       "1               77.01              3.0            25.67  \n",
       "2               14.30              6.0             2.38  \n",
       "3              180.99              7.0            25.86  \n",
       "4                4.65              3.0             1.55  "
      ]
     },
     "execution_count": 9,
     "metadata": {},
     "output_type": "execute_result"
    }
   ],
   "source": [
    "# merge profile and transactions, and create members dataframe\n",
    "members = profile.merge(transactions, how='left', on='customer_id')\n",
    "members['transaction_amount'] = members['transaction_amount'].fillna(0)\n",
    "members['transaction_cnt'] = members['transaction_cnt'].fillna(0)\n",
    "members['transaction_aos'] = members['transaction_aos'].fillna(0)\n",
    "members.head()"
   ]
  },
  {
   "cell_type": "code",
   "execution_count": 10,
   "metadata": {},
   "outputs": [
    {
     "data": {
      "text/plain": [
       "gender                        object\n",
       "age                            int64\n",
       "customer_id                   object\n",
       "date_registered       datetime64[ns]\n",
       "income                       float64\n",
       "transaction_amount           float64\n",
       "transaction_cnt              float64\n",
       "transaction_aos              float64\n",
       "dtype: object"
      ]
     },
     "execution_count": 10,
     "metadata": {},
     "output_type": "execute_result"
    }
   ],
   "source": [
    "members.dtypes"
   ]
  },
  {
   "cell_type": "code",
   "execution_count": 11,
   "metadata": {},
   "outputs": [
    {
     "name": "stdout",
     "output_type": "stream",
     "text": [
      "(11390, 8) (5610, 8) (11390,) (5610,)\n"
     ]
    }
   ],
   "source": [
    "# split data into train and test\n",
    "from sklearn.model_selection import train_test_split\n",
    "\n",
    "# split into inputs and outputs\n",
    "# X, y = members.iloc[:, :-1], members.iloc[:, -1]\n",
    "# print(X.shape, y.shape)\n",
    "\n",
    "# split into train test sets\n",
    "X_train, X_test, y_train, y_test = train_test_split(members, \n",
    "                                                    members.transaction_aos, \n",
    "                                                    test_size=0.33, \n",
    "                                                    random_state=0)\n",
    "\n",
    "print(X_train.shape, X_test.shape, y_train.shape, y_test.shape)\n",
    "# (11390, 8) (5610, 8) (11390,) (5610,)"
   ]
  },
  {
   "cell_type": "markdown",
   "metadata": {},
   "source": [
    "## Imputation: Missing & Incorrect/Outlier Values"
   ]
  },
  {
   "cell_type": "code",
   "execution_count": 12,
   "metadata": {},
   "outputs": [],
   "source": [
    "# create flag to show which rows have been imputed \n",
    "# imputation of gender, income, and age=118 - take the median from each column\n",
    "\n",
    "X_train['gender_NA'] = np.where(X_train['gender'].isnull(), 1, 0)\n",
    "X_train['income_NA'] = np.where(X_train['income'].isnull(), 1, 0)\n",
    "X_train['age_NA'] = np.where(X_train['age']==118, 1, 0)\n",
    "X_train['age'] = X_train['age'].apply(lambda x: np.nan if x==118 else x)\n",
    "\n",
    "X_test['gender_NA'] = np.where(X_test['gender'].isnull(), 1, 0)\n",
    "X_test['income_NA'] = np.where(X_test['income'].isnull(), 1, 0)\n",
    "X_test['age_NA'] = np.where(X_test['age']==118, 1, 0)\n",
    "X_test['age'] = X_test['age'].apply(lambda x: np.nan if x==118 else x)\n"
   ]
  },
  {
   "cell_type": "code",
   "execution_count": 13,
   "metadata": {},
   "outputs": [
    {
     "data": {
      "text/html": [
       "<div>\n",
       "<style scoped>\n",
       "    .dataframe tbody tr th:only-of-type {\n",
       "        vertical-align: middle;\n",
       "    }\n",
       "\n",
       "    .dataframe tbody tr th {\n",
       "        vertical-align: top;\n",
       "    }\n",
       "\n",
       "    .dataframe thead th {\n",
       "        text-align: right;\n",
       "    }\n",
       "</style>\n",
       "<table border=\"1\" class=\"dataframe\">\n",
       "  <thead>\n",
       "    <tr style=\"text-align: right;\">\n",
       "      <th></th>\n",
       "      <th>gender</th>\n",
       "      <th>age</th>\n",
       "      <th>customer_id</th>\n",
       "      <th>date_registered</th>\n",
       "      <th>income</th>\n",
       "      <th>transaction_amount</th>\n",
       "      <th>transaction_cnt</th>\n",
       "      <th>transaction_aos</th>\n",
       "      <th>gender_NA</th>\n",
       "      <th>income_NA</th>\n",
       "      <th>age_NA</th>\n",
       "    </tr>\n",
       "  </thead>\n",
       "  <tbody>\n",
       "    <tr>\n",
       "      <th>8486</th>\n",
       "      <td>F</td>\n",
       "      <td>49.0</td>\n",
       "      <td>8afd61052075479bacfe7dec6a27111c</td>\n",
       "      <td>2018-03-14</td>\n",
       "      <td>75000.0</td>\n",
       "      <td>65.38</td>\n",
       "      <td>3.0</td>\n",
       "      <td>21.79</td>\n",
       "      <td>0</td>\n",
       "      <td>0</td>\n",
       "      <td>0</td>\n",
       "    </tr>\n",
       "    <tr>\n",
       "      <th>13892</th>\n",
       "      <td>M</td>\n",
       "      <td>68.0</td>\n",
       "      <td>0f4ea68d60614ce2a683c039425f160c</td>\n",
       "      <td>2017-10-09</td>\n",
       "      <td>46000.0</td>\n",
       "      <td>64.10</td>\n",
       "      <td>4.0</td>\n",
       "      <td>16.03</td>\n",
       "      <td>0</td>\n",
       "      <td>0</td>\n",
       "      <td>0</td>\n",
       "    </tr>\n",
       "    <tr>\n",
       "      <th>7700</th>\n",
       "      <td>Missing</td>\n",
       "      <td>55.0</td>\n",
       "      <td>21235376597f4d94af106ebba288304c</td>\n",
       "      <td>2015-09-12</td>\n",
       "      <td>64000.0</td>\n",
       "      <td>21.31</td>\n",
       "      <td>12.0</td>\n",
       "      <td>1.78</td>\n",
       "      <td>1</td>\n",
       "      <td>1</td>\n",
       "      <td>1</td>\n",
       "    </tr>\n",
       "    <tr>\n",
       "      <th>6045</th>\n",
       "      <td>M</td>\n",
       "      <td>65.0</td>\n",
       "      <td>9c9d2659c4ec499288a96dec70fae500</td>\n",
       "      <td>2017-01-12</td>\n",
       "      <td>76000.0</td>\n",
       "      <td>154.40</td>\n",
       "      <td>6.0</td>\n",
       "      <td>25.73</td>\n",
       "      <td>0</td>\n",
       "      <td>0</td>\n",
       "      <td>0</td>\n",
       "    </tr>\n",
       "    <tr>\n",
       "      <th>14096</th>\n",
       "      <td>F</td>\n",
       "      <td>35.0</td>\n",
       "      <td>75f1a3a88b5845feba167c6380f4dba2</td>\n",
       "      <td>2018-05-27</td>\n",
       "      <td>38000.0</td>\n",
       "      <td>17.69</td>\n",
       "      <td>6.0</td>\n",
       "      <td>2.95</td>\n",
       "      <td>0</td>\n",
       "      <td>0</td>\n",
       "      <td>0</td>\n",
       "    </tr>\n",
       "  </tbody>\n",
       "</table>\n",
       "</div>"
      ],
      "text/plain": [
       "        gender   age                       customer_id date_registered  \\\n",
       "8486         F  49.0  8afd61052075479bacfe7dec6a27111c      2018-03-14   \n",
       "13892        M  68.0  0f4ea68d60614ce2a683c039425f160c      2017-10-09   \n",
       "7700   Missing  55.0  21235376597f4d94af106ebba288304c      2015-09-12   \n",
       "6045         M  65.0  9c9d2659c4ec499288a96dec70fae500      2017-01-12   \n",
       "14096        F  35.0  75f1a3a88b5845feba167c6380f4dba2      2018-05-27   \n",
       "\n",
       "        income  transaction_amount  transaction_cnt  transaction_aos  \\\n",
       "8486   75000.0               65.38              3.0            21.79   \n",
       "13892  46000.0               64.10              4.0            16.03   \n",
       "7700   64000.0               21.31             12.0             1.78   \n",
       "6045   76000.0              154.40              6.0            25.73   \n",
       "14096  38000.0               17.69              6.0             2.95   \n",
       "\n",
       "       gender_NA  income_NA  age_NA  \n",
       "8486           0          0       0  \n",
       "13892          0          0       0  \n",
       "7700           1          1       1  \n",
       "6045           0          0       0  \n",
       "14096          0          0       0  "
      ]
     },
     "execution_count": 13,
     "metadata": {},
     "output_type": "execute_result"
    }
   ],
   "source": [
    "# impute income, and age column with median values\n",
    "# impute gender with 'Missing' category\n",
    "\n",
    "# only use values calculated in train set to impute test set\n",
    "age_median = X_train.age.median()\n",
    "income_median = X_train.income.median()\n",
    "\n",
    "X_train['age'].fillna(age_median, inplace=True)\n",
    "X_test['age'].fillna(age_median, inplace=True)\n",
    " \n",
    "X_train['income'].fillna(income_median, inplace=True)\n",
    "X_test['income'].fillna(income_median, inplace=True)\n",
    "\n",
    "X_train['gender'].fillna('Missing', inplace=True)\n",
    "X_test['gender'].fillna('Missing', inplace=True)\n",
    "\n",
    "X_train.head()"
   ]
  },
  {
   "cell_type": "code",
   "execution_count": 14,
   "metadata": {},
   "outputs": [
    {
     "data": {
      "image/png": "[encoded data removed]",
      "text/plain": [
       "<Figure size 720x720 with 9 Axes>"
      ]
     },
     "metadata": {
      "needs_background": "light"
     },
     "output_type": "display_data"
    }
   ],
   "source": [
    "# explore the change in the distributions after the median imputation\n",
    "X_train.hist(bins=30, figsize=(10,10))\n",
    "plt.show()"
   ]
  },
  {
   "cell_type": "markdown",
   "metadata": {},
   "source": [
    "## Feature: age_quantile_label & income_quantile_label"
   ]
  },
  {
   "cell_type": "code",
   "execution_count": 15,
   "metadata": {
    "scrolled": true
   },
   "outputs": [
    {
     "data": {
      "text/plain": [
       "array([[<AxesSubplot:title={'center':'age'}>,\n",
       "        <AxesSubplot:title={'center':'income'}>]], dtype=object)"
      ]
     },
     "execution_count": 15,
     "metadata": {},
     "output_type": "execute_result"
    },
    {
     "data": {
      "image/png": "[encoded data removed]",
      "text/plain": [
       "<Figure size 432x288 with 2 Axes>"
      ]
     },
     "metadata": {
      "needs_background": "light"
     },
     "output_type": "display_data"
    }
   ],
   "source": [
    "X_train[['age','income']].hist(bins=20, color='#A9C5D3', edgecolor='black', grid=False)"
   ]
  },
  {
   "cell_type": "markdown",
   "metadata": {},
   "source": [
    "### age_quantile_range & age_quantile_label"
   ]
  },
  {
   "cell_type": "code",
   "execution_count": 16,
   "metadata": {},
   "outputs": [
    {
     "data": {
      "text/plain": [
       "0.0     18.0\n",
       "0.2     41.0\n",
       "0.4     53.0\n",
       "0.6     57.0\n",
       "0.8     68.0\n",
       "1.0    101.0\n",
       "Name: age, dtype: float64"
      ]
     },
     "execution_count": 16,
     "metadata": {},
     "output_type": "execute_result"
    }
   ],
   "source": [
    "quantile_list = [0, .2, .4, .6, .8, 1.]\n",
    "quantiles = X_train['age'].quantile(quantile_list)\n",
    "quantiles"
   ]
  },
  {
   "cell_type": "code",
   "execution_count": 17,
   "metadata": {},
   "outputs": [
    {
     "data": {
      "text/plain": [
       "Text(0, 0.5, 'Frequency')"
      ]
     },
     "execution_count": 17,
     "metadata": {},
     "output_type": "execute_result"
    },
    {
     "data": {
      "image/png": "[encoded data removed]",
      "text/plain": [
       "<Figure size 432x288 with 1 Axes>"
      ]
     },
     "metadata": {
      "needs_background": "light"
     },
     "output_type": "display_data"
    }
   ],
   "source": [
    "fig, ax = plt.subplots()\n",
    "X_train['age'].hist(bins=30, color='#A9C5D3', edgecolor='black', grid=False)\n",
    "\n",
    "for quantile in quantiles:\n",
    "    qvl = plt.axvline(quantile, color='r')\n",
    "    \n",
    "ax.legend([qvl], ['Quantiles'], fontsize=10)\n",
    "ax.set_title('Age Histogram with Quantiles', fontsize=12)\n",
    "ax.set_xlabel('Age', fontsize=12)\n",
    "ax.set_ylabel('Frequency', fontsize=12)"
   ]
  },
  {
   "cell_type": "code",
   "execution_count": 18,
   "metadata": {},
   "outputs": [],
   "source": [
    "# retbins = True captures the limits of each interval (can use them to cut the test set)\n",
    "labels = ['0-20Q', '20-40Q', '40-60Q', '60-80Q', '80-100Q']\n",
    "\n",
    "# calculate quantile ranges\n",
    "age_quantile_range, age_intervals = pd.qcut(X_train['age'], 5, retbins=True, precision=3, duplicates='raise')\n",
    "\n",
    "# calculate quantile labels\n",
    "age_quantile_labels = pd.qcut(X_train['age'], 5, labels=labels, duplicates='raise')"
   ]
  },
  {
   "cell_type": "code",
   "execution_count": 19,
   "metadata": {},
   "outputs": [],
   "source": [
    "# e.g., unittest_var_quantile_intervals(age_intervals, age_quantile_range)\n",
    "def unittest_var_quantile_intervals(pd_generated_var_intervals, var_quantile_range):\n",
    "    \"\"\"\n",
    "    Check if pandas generated variable intervals are not rounded up versus the actual intervals\n",
    "    \"\"\"\n",
    "    # create function to manually generate the variable interval values\n",
    "    def generate_quantile_intervals(var_quantile_range):\n",
    "        n = len(var_quantile_range.unique()) - 1\n",
    "        var_quantile_intervals = []\n",
    "        cnt = 0\n",
    "        for i in sorted(var_quantile_range.unique()):\n",
    "            if cnt == n:\n",
    "                val0 = float(str(i).replace(\"(\",\"\").split(\",\")[0])\n",
    "                val1 = float(str(i).replace(\"(\",\"\").replace(\"]\",\"\").split(\",\")[1])\n",
    "                # arbitrary number ten added to compensate for edge cases where some var instances\n",
    "                # the max value of the bin range does not cover all var instance values\n",
    "                val1 = val1 + 10\n",
    "                var_quantile_intervals.append(val0)\n",
    "                var_quantile_intervals.append(val1)\n",
    "            else:\n",
    "                val = float(str(i).replace(\"(\",\"\").split(\",\")[0])\n",
    "                var_quantile_intervals.append(val)\n",
    "            cnt += 1\n",
    "        var_quantile_intervals = sorted(var_quantile_intervals)\n",
    "        return var_quantile_intervals\n",
    "    \n",
    "    # execute function and generate manual list of intervals\n",
    "    func_generated_var_intervals = generate_quantile_intervals(var_quantile_range)\n",
    "    \n",
    "    # compare to pandas generated intervals b/c pandas round up and causes issue\n",
    "    pd_generated_var_intervals = list(pd_generated_var_intervals)\n",
    "    \n",
    "    if pd_generated_var_intervals == func_generated_var_intervals:\n",
    "        return pd_generated_var_intervals\n",
    "    else:\n",
    "        return func_generated_var_intervals\n"
   ]
  },
  {
   "cell_type": "code",
   "execution_count": 20,
   "metadata": {},
   "outputs": [
    {
     "data": {
      "text/plain": [
       "[17.999, 41.0, 53.0, 57.0, 68.0, 111.0]"
      ]
     },
     "execution_count": 20,
     "metadata": {},
     "output_type": "execute_result"
    }
   ],
   "source": [
    "age_intervals = unittest_var_quantile_intervals(age_intervals, age_quantile_range)\n",
    "age_intervals"
   ]
  },
  {
   "cell_type": "code",
   "execution_count": 21,
   "metadata": {},
   "outputs": [],
   "source": [
    "# append columns based on index location\n",
    "X_train.insert(loc=2, column='age_quantile_range', value=age_quantile_range)\n",
    "X_train.insert(loc=3, column='age_quantile_label', value=age_quantile_labels)"
   ]
  },
  {
   "cell_type": "code",
   "execution_count": 22,
   "metadata": {},
   "outputs": [
    {
     "data": {
      "text/html": [
       "<div>\n",
       "<style scoped>\n",
       "    .dataframe tbody tr th:only-of-type {\n",
       "        vertical-align: middle;\n",
       "    }\n",
       "\n",
       "    .dataframe tbody tr th {\n",
       "        vertical-align: top;\n",
       "    }\n",
       "\n",
       "    .dataframe thead th {\n",
       "        text-align: right;\n",
       "    }\n",
       "</style>\n",
       "<table border=\"1\" class=\"dataframe\">\n",
       "  <thead>\n",
       "    <tr style=\"text-align: right;\">\n",
       "      <th></th>\n",
       "      <th>gender</th>\n",
       "      <th>age</th>\n",
       "      <th>age_quantile_range</th>\n",
       "      <th>age_quantile_label</th>\n",
       "      <th>customer_id</th>\n",
       "      <th>date_registered</th>\n",
       "      <th>income</th>\n",
       "      <th>transaction_amount</th>\n",
       "      <th>transaction_cnt</th>\n",
       "      <th>transaction_aos</th>\n",
       "      <th>gender_NA</th>\n",
       "      <th>income_NA</th>\n",
       "      <th>age_NA</th>\n",
       "    </tr>\n",
       "  </thead>\n",
       "  <tbody>\n",
       "    <tr>\n",
       "      <th>8486</th>\n",
       "      <td>F</td>\n",
       "      <td>49.0</td>\n",
       "      <td>(41.0, 53.0]</td>\n",
       "      <td>20-40Q</td>\n",
       "      <td>8afd61052075479bacfe7dec6a27111c</td>\n",
       "      <td>2018-03-14</td>\n",
       "      <td>75000.0</td>\n",
       "      <td>65.38</td>\n",
       "      <td>3.0</td>\n",
       "      <td>21.79</td>\n",
       "      <td>0</td>\n",
       "      <td>0</td>\n",
       "      <td>0</td>\n",
       "    </tr>\n",
       "    <tr>\n",
       "      <th>13892</th>\n",
       "      <td>M</td>\n",
       "      <td>68.0</td>\n",
       "      <td>(57.0, 68.0]</td>\n",
       "      <td>60-80Q</td>\n",
       "      <td>0f4ea68d60614ce2a683c039425f160c</td>\n",
       "      <td>2017-10-09</td>\n",
       "      <td>46000.0</td>\n",
       "      <td>64.10</td>\n",
       "      <td>4.0</td>\n",
       "      <td>16.03</td>\n",
       "      <td>0</td>\n",
       "      <td>0</td>\n",
       "      <td>0</td>\n",
       "    </tr>\n",
       "    <tr>\n",
       "      <th>7700</th>\n",
       "      <td>Missing</td>\n",
       "      <td>55.0</td>\n",
       "      <td>(53.0, 57.0]</td>\n",
       "      <td>40-60Q</td>\n",
       "      <td>21235376597f4d94af106ebba288304c</td>\n",
       "      <td>2015-09-12</td>\n",
       "      <td>64000.0</td>\n",
       "      <td>21.31</td>\n",
       "      <td>12.0</td>\n",
       "      <td>1.78</td>\n",
       "      <td>1</td>\n",
       "      <td>1</td>\n",
       "      <td>1</td>\n",
       "    </tr>\n",
       "    <tr>\n",
       "      <th>6045</th>\n",
       "      <td>M</td>\n",
       "      <td>65.0</td>\n",
       "      <td>(57.0, 68.0]</td>\n",
       "      <td>60-80Q</td>\n",
       "      <td>9c9d2659c4ec499288a96dec70fae500</td>\n",
       "      <td>2017-01-12</td>\n",
       "      <td>76000.0</td>\n",
       "      <td>154.40</td>\n",
       "      <td>6.0</td>\n",
       "      <td>25.73</td>\n",
       "      <td>0</td>\n",
       "      <td>0</td>\n",
       "      <td>0</td>\n",
       "    </tr>\n",
       "    <tr>\n",
       "      <th>14096</th>\n",
       "      <td>F</td>\n",
       "      <td>35.0</td>\n",
       "      <td>(17.999, 41.0]</td>\n",
       "      <td>0-20Q</td>\n",
       "      <td>75f1a3a88b5845feba167c6380f4dba2</td>\n",
       "      <td>2018-05-27</td>\n",
       "      <td>38000.0</td>\n",
       "      <td>17.69</td>\n",
       "      <td>6.0</td>\n",
       "      <td>2.95</td>\n",
       "      <td>0</td>\n",
       "      <td>0</td>\n",
       "      <td>0</td>\n",
       "    </tr>\n",
       "  </tbody>\n",
       "</table>\n",
       "</div>"
      ],
      "text/plain": [
       "        gender   age age_quantile_range age_quantile_label  \\\n",
       "8486         F  49.0       (41.0, 53.0]             20-40Q   \n",
       "13892        M  68.0       (57.0, 68.0]             60-80Q   \n",
       "7700   Missing  55.0       (53.0, 57.0]             40-60Q   \n",
       "6045         M  65.0       (57.0, 68.0]             60-80Q   \n",
       "14096        F  35.0     (17.999, 41.0]              0-20Q   \n",
       "\n",
       "                            customer_id date_registered   income  \\\n",
       "8486   8afd61052075479bacfe7dec6a27111c      2018-03-14  75000.0   \n",
       "13892  0f4ea68d60614ce2a683c039425f160c      2017-10-09  46000.0   \n",
       "7700   21235376597f4d94af106ebba288304c      2015-09-12  64000.0   \n",
       "6045   9c9d2659c4ec499288a96dec70fae500      2017-01-12  76000.0   \n",
       "14096  75f1a3a88b5845feba167c6380f4dba2      2018-05-27  38000.0   \n",
       "\n",
       "       transaction_amount  transaction_cnt  transaction_aos  gender_NA  \\\n",
       "8486                65.38              3.0            21.79          0   \n",
       "13892               64.10              4.0            16.03          0   \n",
       "7700                21.31             12.0             1.78          1   \n",
       "6045               154.40              6.0            25.73          0   \n",
       "14096               17.69              6.0             2.95          0   \n",
       "\n",
       "       income_NA  age_NA  \n",
       "8486           0       0  \n",
       "13892          0       0  \n",
       "7700           1       1  \n",
       "6045           0       0  \n",
       "14096          0       0  "
      ]
     },
     "execution_count": 22,
     "metadata": {},
     "output_type": "execute_result"
    }
   ],
   "source": [
    "X_train.head()"
   ]
  },
  {
   "cell_type": "code",
   "execution_count": 23,
   "metadata": {},
   "outputs": [
    {
     "data": {
      "text/html": [
       "<div>\n",
       "<style scoped>\n",
       "    .dataframe tbody tr th:only-of-type {\n",
       "        vertical-align: middle;\n",
       "    }\n",
       "\n",
       "    .dataframe tbody tr th {\n",
       "        vertical-align: top;\n",
       "    }\n",
       "\n",
       "    .dataframe thead th {\n",
       "        text-align: right;\n",
       "    }\n",
       "</style>\n",
       "<table border=\"1\" class=\"dataframe\">\n",
       "  <thead>\n",
       "    <tr style=\"text-align: right;\">\n",
       "      <th></th>\n",
       "      <th>gender</th>\n",
       "      <th>age</th>\n",
       "      <th>age_quantile_range</th>\n",
       "      <th>age_quantile_label</th>\n",
       "      <th>customer_id</th>\n",
       "      <th>date_registered</th>\n",
       "      <th>income</th>\n",
       "      <th>transaction_amount</th>\n",
       "      <th>transaction_cnt</th>\n",
       "      <th>transaction_aos</th>\n",
       "      <th>gender_NA</th>\n",
       "      <th>income_NA</th>\n",
       "      <th>age_NA</th>\n",
       "    </tr>\n",
       "  </thead>\n",
       "  <tbody>\n",
       "    <tr>\n",
       "      <th>3873</th>\n",
       "      <td>F</td>\n",
       "      <td>35.0</td>\n",
       "      <td>(17.999, 41.0]</td>\n",
       "      <td>0-20Q</td>\n",
       "      <td>b743f13d0b9f4ae0b529bb65615f7e52</td>\n",
       "      <td>2016-04-30</td>\n",
       "      <td>34000.0</td>\n",
       "      <td>162.74</td>\n",
       "      <td>13.0</td>\n",
       "      <td>12.52</td>\n",
       "      <td>0</td>\n",
       "      <td>0</td>\n",
       "      <td>0</td>\n",
       "    </tr>\n",
       "    <tr>\n",
       "      <th>3625</th>\n",
       "      <td>F</td>\n",
       "      <td>35.0</td>\n",
       "      <td>(17.999, 41.0]</td>\n",
       "      <td>0-20Q</td>\n",
       "      <td>a9ef494d007245e9b94c2ff661859c51</td>\n",
       "      <td>2015-10-18</td>\n",
       "      <td>45000.0</td>\n",
       "      <td>156.98</td>\n",
       "      <td>14.0</td>\n",
       "      <td>11.21</td>\n",
       "      <td>0</td>\n",
       "      <td>0</td>\n",
       "      <td>0</td>\n",
       "    </tr>\n",
       "    <tr>\n",
       "      <th>3028</th>\n",
       "      <td>M</td>\n",
       "      <td>42.0</td>\n",
       "      <td>(41.0, 53.0]</td>\n",
       "      <td>20-40Q</td>\n",
       "      <td>d8f121893be243f3a8851129a828beee</td>\n",
       "      <td>2018-07-05</td>\n",
       "      <td>56000.0</td>\n",
       "      <td>27.48</td>\n",
       "      <td>7.0</td>\n",
       "      <td>3.93</td>\n",
       "      <td>0</td>\n",
       "      <td>0</td>\n",
       "      <td>0</td>\n",
       "    </tr>\n",
       "    <tr>\n",
       "      <th>13814</th>\n",
       "      <td>Missing</td>\n",
       "      <td>55.0</td>\n",
       "      <td>(53.0, 57.0]</td>\n",
       "      <td>40-60Q</td>\n",
       "      <td>9da33731c69f4d838d8dacc2f041d538</td>\n",
       "      <td>2014-11-11</td>\n",
       "      <td>64000.0</td>\n",
       "      <td>23.22</td>\n",
       "      <td>7.0</td>\n",
       "      <td>3.32</td>\n",
       "      <td>1</td>\n",
       "      <td>1</td>\n",
       "      <td>1</td>\n",
       "    </tr>\n",
       "    <tr>\n",
       "      <th>15398</th>\n",
       "      <td>M</td>\n",
       "      <td>39.0</td>\n",
       "      <td>(17.999, 41.0]</td>\n",
       "      <td>0-20Q</td>\n",
       "      <td>646797fb6f194a698086d585c7d60cc3</td>\n",
       "      <td>2017-03-28</td>\n",
       "      <td>61000.0</td>\n",
       "      <td>72.83</td>\n",
       "      <td>18.0</td>\n",
       "      <td>4.05</td>\n",
       "      <td>0</td>\n",
       "      <td>0</td>\n",
       "      <td>0</td>\n",
       "    </tr>\n",
       "  </tbody>\n",
       "</table>\n",
       "</div>"
      ],
      "text/plain": [
       "        gender   age age_quantile_range age_quantile_label  \\\n",
       "3873         F  35.0     (17.999, 41.0]              0-20Q   \n",
       "3625         F  35.0     (17.999, 41.0]              0-20Q   \n",
       "3028         M  42.0       (41.0, 53.0]             20-40Q   \n",
       "13814  Missing  55.0       (53.0, 57.0]             40-60Q   \n",
       "15398        M  39.0     (17.999, 41.0]              0-20Q   \n",
       "\n",
       "                            customer_id date_registered   income  \\\n",
       "3873   b743f13d0b9f4ae0b529bb65615f7e52      2016-04-30  34000.0   \n",
       "3625   a9ef494d007245e9b94c2ff661859c51      2015-10-18  45000.0   \n",
       "3028   d8f121893be243f3a8851129a828beee      2018-07-05  56000.0   \n",
       "13814  9da33731c69f4d838d8dacc2f041d538      2014-11-11  64000.0   \n",
       "15398  646797fb6f194a698086d585c7d60cc3      2017-03-28  61000.0   \n",
       "\n",
       "       transaction_amount  transaction_cnt  transaction_aos  gender_NA  \\\n",
       "3873               162.74             13.0            12.52          0   \n",
       "3625               156.98             14.0            11.21          0   \n",
       "3028                27.48              7.0             3.93          0   \n",
       "13814               23.22              7.0             3.32          1   \n",
       "15398               72.83             18.0             4.05          0   \n",
       "\n",
       "       income_NA  age_NA  \n",
       "3873           0       0  \n",
       "3625           0       0  \n",
       "3028           0       0  \n",
       "13814          1       1  \n",
       "15398          0       0  "
      ]
     },
     "execution_count": 23,
     "metadata": {},
     "output_type": "execute_result"
    }
   ],
   "source": [
    "# transform the test set:\n",
    "    # use pandas cut method (instead of qcut) and\n",
    "    # pass the quantile edges calculated in the training set\n",
    "\n",
    "labels = ['0-20Q', '20-40Q', '40-60Q', '60-80Q', '80-100Q']\n",
    "\n",
    "X_test_age_quantile_range = pd.cut(x=X_test['age'], bins=age_intervals)\n",
    "X_test_age_quantile_labels = pd.cut(x=X_test['age'], bins=age_intervals, labels=labels)\n",
    "\n",
    "# append columns based on index location\n",
    "X_test.insert(loc=2, column='age_quantile_range', value=X_test_age_quantile_range)\n",
    "X_test.insert(loc=3, column='age_quantile_label', value=X_test_age_quantile_labels)\n",
    "\n",
    "X_test.head()"
   ]
  },
  {
   "cell_type": "code",
   "execution_count": 24,
   "metadata": {},
   "outputs": [
    {
     "data": {
      "text/plain": [
       "0.0"
      ]
     },
     "execution_count": 24,
     "metadata": {},
     "output_type": "execute_result"
    }
   ],
   "source": [
    "X_test.age_quantile_range.isnull().mean()"
   ]
  },
  {
   "cell_type": "markdown",
   "metadata": {},
   "source": [
    "### income_quantile_range & income_quantile_label"
   ]
  },
  {
   "cell_type": "code",
   "execution_count": 25,
   "metadata": {},
   "outputs": [],
   "source": [
    "labels = ['0-20Q', '20-40Q', '40-60Q', '60-80Q', '80-100Q']\n",
    "\n",
    "income_quantile_range, income_intervals = pd.qcut(X_train['income'], 5, retbins=True, \n",
    "                                                  precision=3, duplicates='raise')\n",
    "\n",
    "income_quantile_labels = pd.qcut(X_train['income'], 5, labels=labels, duplicates='raise')"
   ]
  },
  {
   "cell_type": "code",
   "execution_count": 26,
   "metadata": {},
   "outputs": [
    {
     "data": {
      "text/plain": [
       "(47000.0, 61000.0]      2344\n",
       "(29999.999, 47000.0]    2315\n",
       "(66000.0, 82000.0]      2297\n",
       "(61000.0, 66000.0]      2235\n",
       "(82000.0, 120000.0]     2199\n",
       "Name: income, dtype: int64"
      ]
     },
     "execution_count": 26,
     "metadata": {},
     "output_type": "execute_result"
    }
   ],
   "source": [
    "income_quantile_range.value_counts()"
   ]
  },
  {
   "cell_type": "code",
   "execution_count": 27,
   "metadata": {},
   "outputs": [
    {
     "data": {
      "text/plain": [
       "[29999.999, 47000.0, 61000.0, 66000.0, 82000.0, 120010.0]"
      ]
     },
     "execution_count": 27,
     "metadata": {},
     "output_type": "execute_result"
    }
   ],
   "source": [
    "# check to see if pandas generated income_intervals is not changed due to rounding issue\n",
    "income_intervals = unittest_var_quantile_intervals(income_intervals, income_quantile_range)\n",
    "income_intervals"
   ]
  },
  {
   "cell_type": "code",
   "execution_count": 28,
   "metadata": {},
   "outputs": [
    {
     "data": {
      "text/html": [
       "<div>\n",
       "<style scoped>\n",
       "    .dataframe tbody tr th:only-of-type {\n",
       "        vertical-align: middle;\n",
       "    }\n",
       "\n",
       "    .dataframe tbody tr th {\n",
       "        vertical-align: top;\n",
       "    }\n",
       "\n",
       "    .dataframe thead th {\n",
       "        text-align: right;\n",
       "    }\n",
       "</style>\n",
       "<table border=\"1\" class=\"dataframe\">\n",
       "  <thead>\n",
       "    <tr style=\"text-align: right;\">\n",
       "      <th></th>\n",
       "      <th>gender</th>\n",
       "      <th>age</th>\n",
       "      <th>age_quantile_range</th>\n",
       "      <th>age_quantile_label</th>\n",
       "      <th>customer_id</th>\n",
       "      <th>date_registered</th>\n",
       "      <th>income</th>\n",
       "      <th>income_quantile_range</th>\n",
       "      <th>income_quantile_label</th>\n",
       "      <th>transaction_amount</th>\n",
       "      <th>transaction_cnt</th>\n",
       "      <th>transaction_aos</th>\n",
       "      <th>gender_NA</th>\n",
       "      <th>income_NA</th>\n",
       "      <th>age_NA</th>\n",
       "    </tr>\n",
       "  </thead>\n",
       "  <tbody>\n",
       "    <tr>\n",
       "      <th>8486</th>\n",
       "      <td>F</td>\n",
       "      <td>49.0</td>\n",
       "      <td>(41.0, 53.0]</td>\n",
       "      <td>20-40Q</td>\n",
       "      <td>8afd61052075479bacfe7dec6a27111c</td>\n",
       "      <td>2018-03-14</td>\n",
       "      <td>75000.0</td>\n",
       "      <td>(66000.0, 82000.0]</td>\n",
       "      <td>60-80Q</td>\n",
       "      <td>65.38</td>\n",
       "      <td>3.0</td>\n",
       "      <td>21.79</td>\n",
       "      <td>0</td>\n",
       "      <td>0</td>\n",
       "      <td>0</td>\n",
       "    </tr>\n",
       "    <tr>\n",
       "      <th>13892</th>\n",
       "      <td>M</td>\n",
       "      <td>68.0</td>\n",
       "      <td>(57.0, 68.0]</td>\n",
       "      <td>60-80Q</td>\n",
       "      <td>0f4ea68d60614ce2a683c039425f160c</td>\n",
       "      <td>2017-10-09</td>\n",
       "      <td>46000.0</td>\n",
       "      <td>(29999.999, 47000.0]</td>\n",
       "      <td>0-20Q</td>\n",
       "      <td>64.10</td>\n",
       "      <td>4.0</td>\n",
       "      <td>16.03</td>\n",
       "      <td>0</td>\n",
       "      <td>0</td>\n",
       "      <td>0</td>\n",
       "    </tr>\n",
       "    <tr>\n",
       "      <th>7700</th>\n",
       "      <td>Missing</td>\n",
       "      <td>55.0</td>\n",
       "      <td>(53.0, 57.0]</td>\n",
       "      <td>40-60Q</td>\n",
       "      <td>21235376597f4d94af106ebba288304c</td>\n",
       "      <td>2015-09-12</td>\n",
       "      <td>64000.0</td>\n",
       "      <td>(61000.0, 66000.0]</td>\n",
       "      <td>40-60Q</td>\n",
       "      <td>21.31</td>\n",
       "      <td>12.0</td>\n",
       "      <td>1.78</td>\n",
       "      <td>1</td>\n",
       "      <td>1</td>\n",
       "      <td>1</td>\n",
       "    </tr>\n",
       "    <tr>\n",
       "      <th>6045</th>\n",
       "      <td>M</td>\n",
       "      <td>65.0</td>\n",
       "      <td>(57.0, 68.0]</td>\n",
       "      <td>60-80Q</td>\n",
       "      <td>9c9d2659c4ec499288a96dec70fae500</td>\n",
       "      <td>2017-01-12</td>\n",
       "      <td>76000.0</td>\n",
       "      <td>(66000.0, 82000.0]</td>\n",
       "      <td>60-80Q</td>\n",
       "      <td>154.40</td>\n",
       "      <td>6.0</td>\n",
       "      <td>25.73</td>\n",
       "      <td>0</td>\n",
       "      <td>0</td>\n",
       "      <td>0</td>\n",
       "    </tr>\n",
       "    <tr>\n",
       "      <th>14096</th>\n",
       "      <td>F</td>\n",
       "      <td>35.0</td>\n",
       "      <td>(17.999, 41.0]</td>\n",
       "      <td>0-20Q</td>\n",
       "      <td>75f1a3a88b5845feba167c6380f4dba2</td>\n",
       "      <td>2018-05-27</td>\n",
       "      <td>38000.0</td>\n",
       "      <td>(29999.999, 47000.0]</td>\n",
       "      <td>0-20Q</td>\n",
       "      <td>17.69</td>\n",
       "      <td>6.0</td>\n",
       "      <td>2.95</td>\n",
       "      <td>0</td>\n",
       "      <td>0</td>\n",
       "      <td>0</td>\n",
       "    </tr>\n",
       "  </tbody>\n",
       "</table>\n",
       "</div>"
      ],
      "text/plain": [
       "        gender   age age_quantile_range age_quantile_label  \\\n",
       "8486         F  49.0       (41.0, 53.0]             20-40Q   \n",
       "13892        M  68.0       (57.0, 68.0]             60-80Q   \n",
       "7700   Missing  55.0       (53.0, 57.0]             40-60Q   \n",
       "6045         M  65.0       (57.0, 68.0]             60-80Q   \n",
       "14096        F  35.0     (17.999, 41.0]              0-20Q   \n",
       "\n",
       "                            customer_id date_registered   income  \\\n",
       "8486   8afd61052075479bacfe7dec6a27111c      2018-03-14  75000.0   \n",
       "13892  0f4ea68d60614ce2a683c039425f160c      2017-10-09  46000.0   \n",
       "7700   21235376597f4d94af106ebba288304c      2015-09-12  64000.0   \n",
       "6045   9c9d2659c4ec499288a96dec70fae500      2017-01-12  76000.0   \n",
       "14096  75f1a3a88b5845feba167c6380f4dba2      2018-05-27  38000.0   \n",
       "\n",
       "      income_quantile_range income_quantile_label  transaction_amount  \\\n",
       "8486     (66000.0, 82000.0]                60-80Q               65.38   \n",
       "13892  (29999.999, 47000.0]                 0-20Q               64.10   \n",
       "7700     (61000.0, 66000.0]                40-60Q               21.31   \n",
       "6045     (66000.0, 82000.0]                60-80Q              154.40   \n",
       "14096  (29999.999, 47000.0]                 0-20Q               17.69   \n",
       "\n",
       "       transaction_cnt  transaction_aos  gender_NA  income_NA  age_NA  \n",
       "8486               3.0            21.79          0          0       0  \n",
       "13892              4.0            16.03          0          0       0  \n",
       "7700              12.0             1.78          1          1       1  \n",
       "6045               6.0            25.73          0          0       0  \n",
       "14096              6.0             2.95          0          0       0  "
      ]
     },
     "execution_count": 28,
     "metadata": {},
     "output_type": "execute_result"
    }
   ],
   "source": [
    "X_train.insert(loc=7, column='income_quantile_range', value=income_quantile_range)\n",
    "X_train.insert(loc=8, column='income_quantile_label', value=income_quantile_labels)\n",
    "X_train.head()"
   ]
  },
  {
   "cell_type": "code",
   "execution_count": 29,
   "metadata": {},
   "outputs": [
    {
     "data": {
      "text/plain": [
       "Text(0, 0.5, 'Frequency')"
      ]
     },
     "execution_count": 29,
     "metadata": {},
     "output_type": "execute_result"
    },
    {
     "data": {
      "image/png": "[encoded data removed]",
      "text/plain": [
       "<Figure size 432x288 with 1 Axes>"
      ]
     },
     "metadata": {
      "needs_background": "light"
     },
     "output_type": "display_data"
    }
   ],
   "source": [
    "quantile_list = [0, .2, .4, .6, .8, 1.]\n",
    "quantiles = X_train['income'].quantile(quantile_list)\n",
    "\n",
    "fig, ax = plt.subplots()\n",
    "X_train['income'].hist(bins=30, color='lightblue', edgecolor='black', grid=False)\n",
    "\n",
    "for quantile in quantiles:\n",
    "    qvl = plt.axvline(quantile, color='r')\n",
    "    \n",
    "ax.legend([qvl], ['Quantiles'], fontsize=10)\n",
    "ax.set_title('Income Histogram with Quantiles', fontsize=12)\n",
    "ax.set_xlabel('Income', fontsize=12)\n",
    "ax.set_ylabel('Frequency', fontsize=12)"
   ]
  },
  {
   "cell_type": "code",
   "execution_count": 30,
   "metadata": {},
   "outputs": [
    {
     "data": {
      "text/html": [
       "<div>\n",
       "<style scoped>\n",
       "    .dataframe tbody tr th:only-of-type {\n",
       "        vertical-align: middle;\n",
       "    }\n",
       "\n",
       "    .dataframe tbody tr th {\n",
       "        vertical-align: top;\n",
       "    }\n",
       "\n",
       "    .dataframe thead th {\n",
       "        text-align: right;\n",
       "    }\n",
       "</style>\n",
       "<table border=\"1\" class=\"dataframe\">\n",
       "  <thead>\n",
       "    <tr style=\"text-align: right;\">\n",
       "      <th></th>\n",
       "      <th>gender</th>\n",
       "      <th>age</th>\n",
       "      <th>age_quantile_range</th>\n",
       "      <th>age_quantile_label</th>\n",
       "      <th>customer_id</th>\n",
       "      <th>date_registered</th>\n",
       "      <th>income</th>\n",
       "      <th>income_quantile_range</th>\n",
       "      <th>income_quantile_label</th>\n",
       "      <th>transaction_amount</th>\n",
       "      <th>transaction_cnt</th>\n",
       "      <th>transaction_aos</th>\n",
       "      <th>gender_NA</th>\n",
       "      <th>income_NA</th>\n",
       "      <th>age_NA</th>\n",
       "    </tr>\n",
       "  </thead>\n",
       "  <tbody>\n",
       "    <tr>\n",
       "      <th>3873</th>\n",
       "      <td>F</td>\n",
       "      <td>35.0</td>\n",
       "      <td>(17.999, 41.0]</td>\n",
       "      <td>0-20Q</td>\n",
       "      <td>b743f13d0b9f4ae0b529bb65615f7e52</td>\n",
       "      <td>2016-04-30</td>\n",
       "      <td>34000.0</td>\n",
       "      <td>(29999.999, 47000.0]</td>\n",
       "      <td>0-20Q</td>\n",
       "      <td>162.74</td>\n",
       "      <td>13.0</td>\n",
       "      <td>12.52</td>\n",
       "      <td>0</td>\n",
       "      <td>0</td>\n",
       "      <td>0</td>\n",
       "    </tr>\n",
       "    <tr>\n",
       "      <th>3625</th>\n",
       "      <td>F</td>\n",
       "      <td>35.0</td>\n",
       "      <td>(17.999, 41.0]</td>\n",
       "      <td>0-20Q</td>\n",
       "      <td>a9ef494d007245e9b94c2ff661859c51</td>\n",
       "      <td>2015-10-18</td>\n",
       "      <td>45000.0</td>\n",
       "      <td>(29999.999, 47000.0]</td>\n",
       "      <td>0-20Q</td>\n",
       "      <td>156.98</td>\n",
       "      <td>14.0</td>\n",
       "      <td>11.21</td>\n",
       "      <td>0</td>\n",
       "      <td>0</td>\n",
       "      <td>0</td>\n",
       "    </tr>\n",
       "    <tr>\n",
       "      <th>3028</th>\n",
       "      <td>M</td>\n",
       "      <td>42.0</td>\n",
       "      <td>(41.0, 53.0]</td>\n",
       "      <td>20-40Q</td>\n",
       "      <td>d8f121893be243f3a8851129a828beee</td>\n",
       "      <td>2018-07-05</td>\n",
       "      <td>56000.0</td>\n",
       "      <td>(47000.0, 61000.0]</td>\n",
       "      <td>20-40Q</td>\n",
       "      <td>27.48</td>\n",
       "      <td>7.0</td>\n",
       "      <td>3.93</td>\n",
       "      <td>0</td>\n",
       "      <td>0</td>\n",
       "      <td>0</td>\n",
       "    </tr>\n",
       "    <tr>\n",
       "      <th>13814</th>\n",
       "      <td>Missing</td>\n",
       "      <td>55.0</td>\n",
       "      <td>(53.0, 57.0]</td>\n",
       "      <td>40-60Q</td>\n",
       "      <td>9da33731c69f4d838d8dacc2f041d538</td>\n",
       "      <td>2014-11-11</td>\n",
       "      <td>64000.0</td>\n",
       "      <td>(61000.0, 66000.0]</td>\n",
       "      <td>40-60Q</td>\n",
       "      <td>23.22</td>\n",
       "      <td>7.0</td>\n",
       "      <td>3.32</td>\n",
       "      <td>1</td>\n",
       "      <td>1</td>\n",
       "      <td>1</td>\n",
       "    </tr>\n",
       "    <tr>\n",
       "      <th>15398</th>\n",
       "      <td>M</td>\n",
       "      <td>39.0</td>\n",
       "      <td>(17.999, 41.0]</td>\n",
       "      <td>0-20Q</td>\n",
       "      <td>646797fb6f194a698086d585c7d60cc3</td>\n",
       "      <td>2017-03-28</td>\n",
       "      <td>61000.0</td>\n",
       "      <td>(47000.0, 61000.0]</td>\n",
       "      <td>20-40Q</td>\n",
       "      <td>72.83</td>\n",
       "      <td>18.0</td>\n",
       "      <td>4.05</td>\n",
       "      <td>0</td>\n",
       "      <td>0</td>\n",
       "      <td>0</td>\n",
       "    </tr>\n",
       "  </tbody>\n",
       "</table>\n",
       "</div>"
      ],
      "text/plain": [
       "        gender   age age_quantile_range age_quantile_label  \\\n",
       "3873         F  35.0     (17.999, 41.0]              0-20Q   \n",
       "3625         F  35.0     (17.999, 41.0]              0-20Q   \n",
       "3028         M  42.0       (41.0, 53.0]             20-40Q   \n",
       "13814  Missing  55.0       (53.0, 57.0]             40-60Q   \n",
       "15398        M  39.0     (17.999, 41.0]              0-20Q   \n",
       "\n",
       "                            customer_id date_registered   income  \\\n",
       "3873   b743f13d0b9f4ae0b529bb65615f7e52      2016-04-30  34000.0   \n",
       "3625   a9ef494d007245e9b94c2ff661859c51      2015-10-18  45000.0   \n",
       "3028   d8f121893be243f3a8851129a828beee      2018-07-05  56000.0   \n",
       "13814  9da33731c69f4d838d8dacc2f041d538      2014-11-11  64000.0   \n",
       "15398  646797fb6f194a698086d585c7d60cc3      2017-03-28  61000.0   \n",
       "\n",
       "      income_quantile_range income_quantile_label  transaction_amount  \\\n",
       "3873   (29999.999, 47000.0]                 0-20Q              162.74   \n",
       "3625   (29999.999, 47000.0]                 0-20Q              156.98   \n",
       "3028     (47000.0, 61000.0]                20-40Q               27.48   \n",
       "13814    (61000.0, 66000.0]                40-60Q               23.22   \n",
       "15398    (47000.0, 61000.0]                20-40Q               72.83   \n",
       "\n",
       "       transaction_cnt  transaction_aos  gender_NA  income_NA  age_NA  \n",
       "3873              13.0            12.52          0          0       0  \n",
       "3625              14.0            11.21          0          0       0  \n",
       "3028               7.0             3.93          0          0       0  \n",
       "13814              7.0             3.32          1          1       1  \n",
       "15398             18.0             4.05          0          0       0  "
      ]
     },
     "execution_count": 30,
     "metadata": {},
     "output_type": "execute_result"
    }
   ],
   "source": [
    "# transform the test set:\n",
    "    # use pandas cut method (instead of qcut) and\n",
    "    # pass the quantile edges calculated in the training set\n",
    "\n",
    "labels = ['0-20Q', '20-40Q', '40-60Q', '60-80Q', '80-100Q']\n",
    "\n",
    "X_test_income_quantile_range = pd.cut(x=X_test['income'], bins=income_intervals)\n",
    "X_test_income_quantile_labels = pd.cut(x=X_test['income'], bins=income_intervals, labels=labels)\n",
    "\n",
    "# append columns based on index location\n",
    "X_test.insert(loc=7, column='income_quantile_range', value=X_test_income_quantile_range)\n",
    "X_test.insert(loc=8, column='income_quantile_label', value=X_test_income_quantile_labels)\n",
    "\n",
    "X_test.head()"
   ]
  },
  {
   "cell_type": "code",
   "execution_count": 31,
   "metadata": {},
   "outputs": [
    {
     "data": {
      "text/plain": [
       "0.0"
      ]
     },
     "execution_count": 31,
     "metadata": {},
     "output_type": "execute_result"
    }
   ],
   "source": [
    "X_test.income_quantile_range.isnull().mean()"
   ]
  },
  {
   "cell_type": "markdown",
   "metadata": {},
   "source": [
    "## Features: days_registered, days_reg_quantile_range, days_reg_quantile_label"
   ]
  },
  {
   "cell_type": "code",
   "execution_count": 32,
   "metadata": {},
   "outputs": [
    {
     "name": "stdout",
     "output_type": "stream",
     "text": [
      "2018-07-26 00:00:00\n",
      "1822\n"
     ]
    }
   ],
   "source": [
    "print(X_train.date_registered.max())\n",
    "print((X_train.date_registered.max() - X_train.date_registered.min()).days)"
   ]
  },
  {
   "cell_type": "code",
   "execution_count": 33,
   "metadata": {},
   "outputs": [
    {
     "name": "stdout",
     "output_type": "stream",
     "text": [
      "train\n",
      "2018-07-26 00:00:00\n",
      "2013-07-30 00:00:00\n",
      "1822\n",
      "\n",
      "test\n",
      "2018-07-26 00:00:00\n",
      "2013-07-29 00:00:00\n",
      "1823\n"
     ]
    }
   ],
   "source": [
    "max_train_date_registered = X_train.date_registered.max()\n",
    "min_train_date_registered = X_train.date_registered.min()\n",
    "print(\"train\")\n",
    "print(max_train_date_registered)\n",
    "print(min_train_date_registered)\n",
    "print((max_train_date_registered - min_train_date_registered).days)\n",
    "print(\"\")\n",
    "\n",
    "max_test_date_registered = X_test.date_registered.max()\n",
    "min_test_date_registered = X_test.date_registered.min()\n",
    "print(\"test\")\n",
    "print(max_test_date_registered)\n",
    "print(min_test_date_registered)\n",
    "print((max_test_date_registered - min_test_date_registered).days)"
   ]
  },
  {
   "cell_type": "code",
   "execution_count": 34,
   "metadata": {},
   "outputs": [
    {
     "name": "stdout",
     "output_type": "stream",
     "text": [
      "2018-07-26 00:00:00\n"
     ]
    }
   ],
   "source": [
    "max_date_registered = X_train.date_registered.max()\n",
    "print(max_date_registered)"
   ]
  },
  {
   "cell_type": "code",
   "execution_count": 35,
   "metadata": {},
   "outputs": [
    {
     "data": {
      "text/html": [
       "<div>\n",
       "<style scoped>\n",
       "    .dataframe tbody tr th:only-of-type {\n",
       "        vertical-align: middle;\n",
       "    }\n",
       "\n",
       "    .dataframe tbody tr th {\n",
       "        vertical-align: top;\n",
       "    }\n",
       "\n",
       "    .dataframe thead th {\n",
       "        text-align: right;\n",
       "    }\n",
       "</style>\n",
       "<table border=\"1\" class=\"dataframe\">\n",
       "  <thead>\n",
       "    <tr style=\"text-align: right;\">\n",
       "      <th></th>\n",
       "      <th>gender</th>\n",
       "      <th>age</th>\n",
       "      <th>age_quantile_range</th>\n",
       "      <th>age_quantile_label</th>\n",
       "      <th>customer_id</th>\n",
       "      <th>date_registered</th>\n",
       "      <th>days_registered</th>\n",
       "      <th>income</th>\n",
       "      <th>income_quantile_range</th>\n",
       "      <th>income_quantile_label</th>\n",
       "      <th>transaction_amount</th>\n",
       "      <th>transaction_cnt</th>\n",
       "      <th>transaction_aos</th>\n",
       "      <th>gender_NA</th>\n",
       "      <th>income_NA</th>\n",
       "      <th>age_NA</th>\n",
       "    </tr>\n",
       "  </thead>\n",
       "  <tbody>\n",
       "    <tr>\n",
       "      <th>8486</th>\n",
       "      <td>F</td>\n",
       "      <td>49.0</td>\n",
       "      <td>(41.0, 53.0]</td>\n",
       "      <td>20-40Q</td>\n",
       "      <td>8afd61052075479bacfe7dec6a27111c</td>\n",
       "      <td>2018-03-14</td>\n",
       "      <td>134</td>\n",
       "      <td>75000.0</td>\n",
       "      <td>(66000.0, 82000.0]</td>\n",
       "      <td>60-80Q</td>\n",
       "      <td>65.38</td>\n",
       "      <td>3.0</td>\n",
       "      <td>21.79</td>\n",
       "      <td>0</td>\n",
       "      <td>0</td>\n",
       "      <td>0</td>\n",
       "    </tr>\n",
       "    <tr>\n",
       "      <th>13892</th>\n",
       "      <td>M</td>\n",
       "      <td>68.0</td>\n",
       "      <td>(57.0, 68.0]</td>\n",
       "      <td>60-80Q</td>\n",
       "      <td>0f4ea68d60614ce2a683c039425f160c</td>\n",
       "      <td>2017-10-09</td>\n",
       "      <td>290</td>\n",
       "      <td>46000.0</td>\n",
       "      <td>(29999.999, 47000.0]</td>\n",
       "      <td>0-20Q</td>\n",
       "      <td>64.10</td>\n",
       "      <td>4.0</td>\n",
       "      <td>16.03</td>\n",
       "      <td>0</td>\n",
       "      <td>0</td>\n",
       "      <td>0</td>\n",
       "    </tr>\n",
       "    <tr>\n",
       "      <th>7700</th>\n",
       "      <td>Missing</td>\n",
       "      <td>55.0</td>\n",
       "      <td>(53.0, 57.0]</td>\n",
       "      <td>40-60Q</td>\n",
       "      <td>21235376597f4d94af106ebba288304c</td>\n",
       "      <td>2015-09-12</td>\n",
       "      <td>1048</td>\n",
       "      <td>64000.0</td>\n",
       "      <td>(61000.0, 66000.0]</td>\n",
       "      <td>40-60Q</td>\n",
       "      <td>21.31</td>\n",
       "      <td>12.0</td>\n",
       "      <td>1.78</td>\n",
       "      <td>1</td>\n",
       "      <td>1</td>\n",
       "      <td>1</td>\n",
       "    </tr>\n",
       "    <tr>\n",
       "      <th>6045</th>\n",
       "      <td>M</td>\n",
       "      <td>65.0</td>\n",
       "      <td>(57.0, 68.0]</td>\n",
       "      <td>60-80Q</td>\n",
       "      <td>9c9d2659c4ec499288a96dec70fae500</td>\n",
       "      <td>2017-01-12</td>\n",
       "      <td>560</td>\n",
       "      <td>76000.0</td>\n",
       "      <td>(66000.0, 82000.0]</td>\n",
       "      <td>60-80Q</td>\n",
       "      <td>154.40</td>\n",
       "      <td>6.0</td>\n",
       "      <td>25.73</td>\n",
       "      <td>0</td>\n",
       "      <td>0</td>\n",
       "      <td>0</td>\n",
       "    </tr>\n",
       "    <tr>\n",
       "      <th>14096</th>\n",
       "      <td>F</td>\n",
       "      <td>35.0</td>\n",
       "      <td>(17.999, 41.0]</td>\n",
       "      <td>0-20Q</td>\n",
       "      <td>75f1a3a88b5845feba167c6380f4dba2</td>\n",
       "      <td>2018-05-27</td>\n",
       "      <td>60</td>\n",
       "      <td>38000.0</td>\n",
       "      <td>(29999.999, 47000.0]</td>\n",
       "      <td>0-20Q</td>\n",
       "      <td>17.69</td>\n",
       "      <td>6.0</td>\n",
       "      <td>2.95</td>\n",
       "      <td>0</td>\n",
       "      <td>0</td>\n",
       "      <td>0</td>\n",
       "    </tr>\n",
       "  </tbody>\n",
       "</table>\n",
       "</div>"
      ],
      "text/plain": [
       "        gender   age age_quantile_range age_quantile_label  \\\n",
       "8486         F  49.0       (41.0, 53.0]             20-40Q   \n",
       "13892        M  68.0       (57.0, 68.0]             60-80Q   \n",
       "7700   Missing  55.0       (53.0, 57.0]             40-60Q   \n",
       "6045         M  65.0       (57.0, 68.0]             60-80Q   \n",
       "14096        F  35.0     (17.999, 41.0]              0-20Q   \n",
       "\n",
       "                            customer_id date_registered  days_registered  \\\n",
       "8486   8afd61052075479bacfe7dec6a27111c      2018-03-14              134   \n",
       "13892  0f4ea68d60614ce2a683c039425f160c      2017-10-09              290   \n",
       "7700   21235376597f4d94af106ebba288304c      2015-09-12             1048   \n",
       "6045   9c9d2659c4ec499288a96dec70fae500      2017-01-12              560   \n",
       "14096  75f1a3a88b5845feba167c6380f4dba2      2018-05-27               60   \n",
       "\n",
       "        income income_quantile_range income_quantile_label  \\\n",
       "8486   75000.0    (66000.0, 82000.0]                60-80Q   \n",
       "13892  46000.0  (29999.999, 47000.0]                 0-20Q   \n",
       "7700   64000.0    (61000.0, 66000.0]                40-60Q   \n",
       "6045   76000.0    (66000.0, 82000.0]                60-80Q   \n",
       "14096  38000.0  (29999.999, 47000.0]                 0-20Q   \n",
       "\n",
       "       transaction_amount  transaction_cnt  transaction_aos  gender_NA  \\\n",
       "8486                65.38              3.0            21.79          0   \n",
       "13892               64.10              4.0            16.03          0   \n",
       "7700                21.31             12.0             1.78          1   \n",
       "6045               154.40              6.0            25.73          0   \n",
       "14096               17.69              6.0             2.95          0   \n",
       "\n",
       "       income_NA  age_NA  \n",
       "8486           0       0  \n",
       "13892          0       0  \n",
       "7700           1       1  \n",
       "6045           0       0  \n",
       "14096          0       0  "
      ]
     },
     "execution_count": 35,
     "metadata": {},
     "output_type": "execute_result"
    }
   ],
   "source": [
    "X_train_days_registered = X_train['date_registered'].apply(lambda x: (max_date_registered - x).days)\n",
    "X_train.insert(loc=6, column='days_registered', value=X_train_days_registered)\n",
    "X_train.head()"
   ]
  },
  {
   "cell_type": "code",
   "execution_count": 36,
   "metadata": {},
   "outputs": [
    {
     "data": {
      "text/html": [
       "<div>\n",
       "<style scoped>\n",
       "    .dataframe tbody tr th:only-of-type {\n",
       "        vertical-align: middle;\n",
       "    }\n",
       "\n",
       "    .dataframe tbody tr th {\n",
       "        vertical-align: top;\n",
       "    }\n",
       "\n",
       "    .dataframe thead th {\n",
       "        text-align: right;\n",
       "    }\n",
       "</style>\n",
       "<table border=\"1\" class=\"dataframe\">\n",
       "  <thead>\n",
       "    <tr style=\"text-align: right;\">\n",
       "      <th></th>\n",
       "      <th>gender</th>\n",
       "      <th>age</th>\n",
       "      <th>age_quantile_range</th>\n",
       "      <th>age_quantile_label</th>\n",
       "      <th>customer_id</th>\n",
       "      <th>date_registered</th>\n",
       "      <th>days_registered</th>\n",
       "      <th>income</th>\n",
       "      <th>income_quantile_range</th>\n",
       "      <th>income_quantile_label</th>\n",
       "      <th>transaction_amount</th>\n",
       "      <th>transaction_cnt</th>\n",
       "      <th>transaction_aos</th>\n",
       "      <th>gender_NA</th>\n",
       "      <th>income_NA</th>\n",
       "      <th>age_NA</th>\n",
       "    </tr>\n",
       "  </thead>\n",
       "  <tbody>\n",
       "    <tr>\n",
       "      <th>3873</th>\n",
       "      <td>F</td>\n",
       "      <td>35.0</td>\n",
       "      <td>(17.999, 41.0]</td>\n",
       "      <td>0-20Q</td>\n",
       "      <td>b743f13d0b9f4ae0b529bb65615f7e52</td>\n",
       "      <td>2016-04-30</td>\n",
       "      <td>817</td>\n",
       "      <td>34000.0</td>\n",
       "      <td>(29999.999, 47000.0]</td>\n",
       "      <td>0-20Q</td>\n",
       "      <td>162.74</td>\n",
       "      <td>13.0</td>\n",
       "      <td>12.52</td>\n",
       "      <td>0</td>\n",
       "      <td>0</td>\n",
       "      <td>0</td>\n",
       "    </tr>\n",
       "    <tr>\n",
       "      <th>3625</th>\n",
       "      <td>F</td>\n",
       "      <td>35.0</td>\n",
       "      <td>(17.999, 41.0]</td>\n",
       "      <td>0-20Q</td>\n",
       "      <td>a9ef494d007245e9b94c2ff661859c51</td>\n",
       "      <td>2015-10-18</td>\n",
       "      <td>1012</td>\n",
       "      <td>45000.0</td>\n",
       "      <td>(29999.999, 47000.0]</td>\n",
       "      <td>0-20Q</td>\n",
       "      <td>156.98</td>\n",
       "      <td>14.0</td>\n",
       "      <td>11.21</td>\n",
       "      <td>0</td>\n",
       "      <td>0</td>\n",
       "      <td>0</td>\n",
       "    </tr>\n",
       "    <tr>\n",
       "      <th>3028</th>\n",
       "      <td>M</td>\n",
       "      <td>42.0</td>\n",
       "      <td>(41.0, 53.0]</td>\n",
       "      <td>20-40Q</td>\n",
       "      <td>d8f121893be243f3a8851129a828beee</td>\n",
       "      <td>2018-07-05</td>\n",
       "      <td>21</td>\n",
       "      <td>56000.0</td>\n",
       "      <td>(47000.0, 61000.0]</td>\n",
       "      <td>20-40Q</td>\n",
       "      <td>27.48</td>\n",
       "      <td>7.0</td>\n",
       "      <td>3.93</td>\n",
       "      <td>0</td>\n",
       "      <td>0</td>\n",
       "      <td>0</td>\n",
       "    </tr>\n",
       "    <tr>\n",
       "      <th>13814</th>\n",
       "      <td>Missing</td>\n",
       "      <td>55.0</td>\n",
       "      <td>(53.0, 57.0]</td>\n",
       "      <td>40-60Q</td>\n",
       "      <td>9da33731c69f4d838d8dacc2f041d538</td>\n",
       "      <td>2014-11-11</td>\n",
       "      <td>1353</td>\n",
       "      <td>64000.0</td>\n",
       "      <td>(61000.0, 66000.0]</td>\n",
       "      <td>40-60Q</td>\n",
       "      <td>23.22</td>\n",
       "      <td>7.0</td>\n",
       "      <td>3.32</td>\n",
       "      <td>1</td>\n",
       "      <td>1</td>\n",
       "      <td>1</td>\n",
       "    </tr>\n",
       "    <tr>\n",
       "      <th>15398</th>\n",
       "      <td>M</td>\n",
       "      <td>39.0</td>\n",
       "      <td>(17.999, 41.0]</td>\n",
       "      <td>0-20Q</td>\n",
       "      <td>646797fb6f194a698086d585c7d60cc3</td>\n",
       "      <td>2017-03-28</td>\n",
       "      <td>485</td>\n",
       "      <td>61000.0</td>\n",
       "      <td>(47000.0, 61000.0]</td>\n",
       "      <td>20-40Q</td>\n",
       "      <td>72.83</td>\n",
       "      <td>18.0</td>\n",
       "      <td>4.05</td>\n",
       "      <td>0</td>\n",
       "      <td>0</td>\n",
       "      <td>0</td>\n",
       "    </tr>\n",
       "  </tbody>\n",
       "</table>\n",
       "</div>"
      ],
      "text/plain": [
       "        gender   age age_quantile_range age_quantile_label  \\\n",
       "3873         F  35.0     (17.999, 41.0]              0-20Q   \n",
       "3625         F  35.0     (17.999, 41.0]              0-20Q   \n",
       "3028         M  42.0       (41.0, 53.0]             20-40Q   \n",
       "13814  Missing  55.0       (53.0, 57.0]             40-60Q   \n",
       "15398        M  39.0     (17.999, 41.0]              0-20Q   \n",
       "\n",
       "                            customer_id date_registered  days_registered  \\\n",
       "3873   b743f13d0b9f4ae0b529bb65615f7e52      2016-04-30              817   \n",
       "3625   a9ef494d007245e9b94c2ff661859c51      2015-10-18             1012   \n",
       "3028   d8f121893be243f3a8851129a828beee      2018-07-05               21   \n",
       "13814  9da33731c69f4d838d8dacc2f041d538      2014-11-11             1353   \n",
       "15398  646797fb6f194a698086d585c7d60cc3      2017-03-28              485   \n",
       "\n",
       "        income income_quantile_range income_quantile_label  \\\n",
       "3873   34000.0  (29999.999, 47000.0]                 0-20Q   \n",
       "3625   45000.0  (29999.999, 47000.0]                 0-20Q   \n",
       "3028   56000.0    (47000.0, 61000.0]                20-40Q   \n",
       "13814  64000.0    (61000.0, 66000.0]                40-60Q   \n",
       "15398  61000.0    (47000.0, 61000.0]                20-40Q   \n",
       "\n",
       "       transaction_amount  transaction_cnt  transaction_aos  gender_NA  \\\n",
       "3873               162.74             13.0            12.52          0   \n",
       "3625               156.98             14.0            11.21          0   \n",
       "3028                27.48              7.0             3.93          0   \n",
       "13814               23.22              7.0             3.32          1   \n",
       "15398               72.83             18.0             4.05          0   \n",
       "\n",
       "       income_NA  age_NA  \n",
       "3873           0       0  \n",
       "3625           0       0  \n",
       "3028           0       0  \n",
       "13814          1       1  \n",
       "15398          0       0  "
      ]
     },
     "execution_count": 36,
     "metadata": {},
     "output_type": "execute_result"
    }
   ],
   "source": [
    "X_test_days_registered = X_test['date_registered'].apply(lambda x: (max_date_registered - x).days)\n",
    "X_test.insert(loc=6, column='days_registered', value=X_test_days_registered)\n",
    "X_test.head()"
   ]
  },
  {
   "cell_type": "code",
   "execution_count": 37,
   "metadata": {},
   "outputs": [
    {
     "data": {
      "text/plain": [
       "(516.4, 704.0]      1143\n",
       "(177.8, 238.0]      1142\n",
       "(238.0, 298.0]      1142\n",
       "(298.0, 358.0]      1141\n",
       "(-0.001, 88.9]      1139\n",
       "(88.9, 177.8]       1139\n",
       "(871.0, 1059.0]     1139\n",
       "(1059.0, 1822.0]    1138\n",
       "(704.0, 871.0]      1136\n",
       "(358.0, 516.4]      1131\n",
       "Name: days_registered, dtype: int64"
      ]
     },
     "execution_count": 37,
     "metadata": {},
     "output_type": "execute_result"
    }
   ],
   "source": [
    "days_reg_bins = pd.qcut(X_train['days_registered'], 10)\n",
    "days_reg_bins.value_counts()"
   ]
  },
  {
   "cell_type": "code",
   "execution_count": 38,
   "metadata": {},
   "outputs": [
    {
     "data": {
      "text/plain": [
       "Text(0, 0.5, 'Frequency')"
      ]
     },
     "execution_count": 38,
     "metadata": {},
     "output_type": "execute_result"
    },
    {
     "data": {
      "image/png": "[encoded data removed]",
      "text/plain": [
       "<Figure size 432x288 with 1 Axes>"
      ]
     },
     "metadata": {
      "needs_background": "light"
     },
     "output_type": "display_data"
    }
   ],
   "source": [
    "reg_quantile_list = [0, .1, .2, .3, .4, .5, .6, .7, .8, .9, 1.]\n",
    "reg_quantiles = X_train['days_registered'].quantile(reg_quantile_list)\n",
    "\n",
    "fig, ax = plt.subplots()\n",
    "X_train['days_registered'].hist(bins=30, color='lightblue', edgecolor='black', grid=False)\n",
    "\n",
    "for quantile in reg_quantiles:\n",
    "    qvl = plt.axvline(quantile, color='r')\n",
    "    \n",
    "ax.legend([qvl], ['Quantiles'], fontsize=10)\n",
    "ax.set_title('Days Registered Histogram with Quantiles', fontsize=12)\n",
    "ax.set_xlabel('Days Registered', fontsize=12)\n",
    "ax.set_ylabel('Frequency', fontsize=12)"
   ]
  },
  {
   "cell_type": "code",
   "execution_count": 39,
   "metadata": {},
   "outputs": [
    {
     "name": "stdout",
     "output_type": "stream",
     "text": [
      "days_reg_intervals: [-0.001, 88.9, 177.8, 238.0, 298.0, 358.0, 516.4, 704.0, 871.0, 1059.0, 1832.0]\n"
     ]
    }
   ],
   "source": [
    "# retbins = True captures the limits of each interval (can use them to cut the test set)\n",
    "days_reg_labels = ['0-10Q', '10-20Q', '20-30Q', '30-40Q', '40-50Q', '50-60Q', '60-70Q', '70-80Q', '80-90Q', '90-100Q']\n",
    "\n",
    "# calculate quantile ranges\n",
    "days_reg_quantile_range, days_reg_intervals = pd.qcut(X_train['days_registered'], 10, retbins=True)\n",
    "\n",
    "# check to see if pandas generated days_reg_intervals is not changed due to rounding issue\n",
    "days_reg_intervals = unittest_var_quantile_intervals(days_reg_intervals, days_reg_quantile_range)\n",
    "print(\"days_reg_intervals: {}\".format(days_reg_intervals))\n",
    "\n",
    "# calculate quantile labels\n",
    "days_reg_quantile_labels = pd.qcut(X_train['days_registered'], 10, labels=days_reg_labels)\n",
    "\n",
    "# insert into X_train\n",
    "X_train.insert(loc=7, column='days_reg_quantile_range', value=days_reg_quantile_range)\n",
    "X_train.insert(loc=8, column='days_reg_quantile_label', value=days_reg_quantile_labels)\n",
    "\n",
    "# transform the test set:\n",
    "    # use pandas cut method (instead of qcut) and\n",
    "    # pass the quantile edges calculated in the training set\n",
    "\n",
    "X_test_days_reg_quantile_range = pd.cut(x=X_test['days_registered'], bins=days_reg_intervals)\n",
    "X_test_days_reg_quantile_labels = pd.cut(x=X_test['days_registered'], bins=days_reg_intervals, labels=days_reg_labels)\n",
    "\n",
    "# append columns based on index location\n",
    "X_test.insert(loc=7, column='days_reg_quantile_range', value=X_test_days_reg_quantile_range)\n",
    "X_test.insert(loc=8, column='days_reg_quantile_label', value=X_test_days_reg_quantile_labels)\n"
   ]
  },
  {
   "cell_type": "code",
   "execution_count": 40,
   "metadata": {},
   "outputs": [
    {
     "data": {
      "text/plain": [
       "0.0"
      ]
     },
     "execution_count": 40,
     "metadata": {},
     "output_type": "execute_result"
    }
   ],
   "source": [
    "X_test.days_reg_quantile_range.isnull().mean()"
   ]
  },
  {
   "cell_type": "markdown",
   "metadata": {},
   "source": [
    "## Features: Offer Received, Completed, and Viewed Related Features\n",
    "* num_offer_received\n",
    "* num_bogo_offer_received\n",
    "* num_info_offer_received \n",
    "* num_discount_offer_received\n",
    "* num_offer_viewed\n",
    "* num_offer_completed\n",
    "* num_offer_completed_viewed\n",
    "* num_offer_completed_not_viewed"
   ]
  },
  {
   "cell_type": "code",
   "execution_count": 41,
   "metadata": {},
   "outputs": [],
   "source": [
    "# read in the json files\n",
    "portfolio = pd.read_json('../data/portfolio.json', orient='records', lines=True)\n",
    "transcript = pd.read_json('../data/transcript.json', orient='records', lines=True)\n",
    "\n",
    "# build all base dataframes - execute functions\n",
    "df_base = BaseTransformDF()\n",
    "df_portfolio = df_base.portfolio_expanded(portfolio)\n",
    "df_transcript = df_base.create_transcript_copy(transcript)\n",
    "df_completed = df_base.create_df_base_completed(df_transcript)\n",
    "df_received = df_base.create_df_base_received(df_transcript)\n",
    "df_viewed = df_base.create_df_base_viewed(df_transcript)"
   ]
  },
  {
   "cell_type": "markdown",
   "metadata": {},
   "source": [
    "#### Feature: num_offer_received"
   ]
  },
  {
   "cell_type": "code",
   "execution_count": 42,
   "metadata": {},
   "outputs": [],
   "source": [
    "# number of total offers received per customer_id\n",
    "df_num_offer_received = df_received.groupby('customer_id')['offer_received'].sum()\n",
    "df_num_offer_received = df_num_offer_received.reset_index().rename(columns={'offer_received': 'num_offer_received'})\n",
    "\n",
    "# append to X_train and X_test\n",
    "X_train = X_train.merge(df_num_offer_received, how='left', on='customer_id')\n",
    "X_train['num_offer_received'].fillna(0, inplace=True)\n",
    "\n",
    "X_test = X_test.merge(df_num_offer_received, how='left', on='customer_id')\n",
    "X_test['num_offer_received'].fillna(0, inplace=True)"
   ]
  },
  {
   "cell_type": "markdown",
   "metadata": {},
   "source": [
    "#### Feature: num_bogo_offer_received, num_info_offer_received, & num_discount_offer_received"
   ]
  },
  {
   "cell_type": "code",
   "execution_count": 43,
   "metadata": {},
   "outputs": [],
   "source": [
    "# num_bogo_offer_received, num_info_offer_received, num_discount_offer_received\n",
    "\n",
    "# merge df_received with df_portfolio\n",
    "offer_received_agg = df_received.merge(df_portfolio, how='left', on='offer_id')\n",
    "\n",
    "# bogo\n",
    "num_bogo_offer_received = offer_received_agg[offer_received_agg['type_bogo']==1].groupby('customer_id')['offer_received'].sum()\n",
    "num_bogo_offer_received = num_bogo_offer_received.reset_index().rename(columns={'offer_received': 'num_bogo_offer_received'})\n",
    "\n",
    "# informational\n",
    "num_info_offer_received = offer_received_agg[offer_received_agg['type_informational']==1].groupby('customer_id')['offer_received'].sum()\n",
    "num_info_offer_received = num_info_offer_received.reset_index().rename(columns={'offer_received': 'num_info_offer_received'})\n",
    "\n",
    "# discount\n",
    "num_discount_offer_received = offer_received_agg[offer_received_agg['type_discount']==1].groupby('customer_id')['offer_received'].sum()\n",
    "num_discount_offer_received = num_discount_offer_received.reset_index().rename(columns={'offer_received': 'num_discount_offer_received'})\n",
    "\n",
    "# append features to X_train and X_test\n",
    "feature_list = [num_bogo_offer_received, num_info_offer_received, num_discount_offer_received]\n",
    "\n",
    "for df_feature in feature_list:\n",
    "    feature_name = df_feature.columns[1]\n",
    "    X_train = X_train.merge(df_feature, how='left', on='customer_id')\n",
    "    X_train[feature_name] = X_train[feature_name].fillna(0) \n",
    "\n",
    "for df_feature in feature_list:\n",
    "    feature_name = df_feature.columns[1]\n",
    "    X_test = X_test.merge(df_feature, how='left', on='customer_id')\n",
    "    X_test[feature_name] = X_test[feature_name].fillna(0) \n",
    "\n"
   ]
  },
  {
   "cell_type": "markdown",
   "metadata": {},
   "source": [
    "#### Feature: num_offer_viewed"
   ]
  },
  {
   "cell_type": "code",
   "execution_count": 44,
   "metadata": {},
   "outputs": [],
   "source": [
    "offer_viewed_agg = df_viewed.groupby('customer_id')['offer_viewed'].sum().reset_index()\n",
    "offer_viewed_agg.rename(columns={'offer_viewed': 'num_offer_viewed'}, inplace=True)\n",
    "\n",
    "X_train = X_train.merge(offer_viewed_agg, how='left', on='customer_id')\n",
    "X_train['num_offer_viewed'].fillna(0, inplace=True)\n",
    "\n",
    "X_test = X_test.merge(offer_viewed_agg, how='left', on='customer_id')\n",
    "X_test['num_offer_viewed'].fillna(0, inplace=True)"
   ]
  },
  {
   "cell_type": "markdown",
   "metadata": {},
   "source": [
    "#### Features: num_offer_completed, num_offer_completed_viewed, num_offer_completed_not_viewed"
   ]
  },
  {
   "cell_type": "code",
   "execution_count": 45,
   "metadata": {},
   "outputs": [],
   "source": [
    "offer_completed_agg = trans_engage.groupby('customer_id')['offer_completed'].sum().reset_index()\n",
    "offer_completed_agg.rename(columns={'offer_completed': 'num_offer_completed'}, inplace=True)\n",
    "\n",
    "offer_completed_viewed_agg = trans_engage[trans_engage['offer_viewed']==1].groupby('customer_id')['offer_completed'].sum().reset_index()\n",
    "offer_completed_viewed_agg.rename(columns={'offer_completed': 'num_offer_completed_viewed'}, inplace=True)\n",
    "\n",
    "offer_completed_not_viewed_agg = trans_engage[trans_engage['offer_viewed']==0].groupby('customer_id')['offer_completed'].sum().reset_index()\n",
    "offer_completed_not_viewed_agg.rename(columns={'offer_completed': 'num_offer_completed_not_viewed'}, inplace=True)\n",
    "\n",
    "feature_list = [offer_completed_agg, offer_completed_viewed_agg, offer_completed_not_viewed_agg]\n",
    "\n",
    "for df_feature in feature_list:\n",
    "    feature_name = df_feature.columns[1]\n",
    "    X_train = X_train.merge(df_feature, how='left', on='customer_id')\n",
    "    X_train[feature_name] = X_train[feature_name].fillna(0)\n",
    "\n",
    "for df_feature in feature_list:\n",
    "    feature_name = df_feature.columns[1]\n",
    "    X_test = X_test.merge(df_feature, how='left', on='customer_id')\n",
    "    X_test[feature_name] = X_test[feature_name].fillna(0)"
   ]
  },
  {
   "cell_type": "markdown",
   "metadata": {},
   "source": [
    "## Features: \n",
    "* num_transactions_no_oc\n",
    "* num_transactions_oc_direct\n",
    "* percent_oc_direct_transactions\n",
    "* num_transactions_oc_indirect"
   ]
  },
  {
   "cell_type": "code",
   "execution_count": 46,
   "metadata": {},
   "outputs": [],
   "source": [
    "# direct: sum of transaction_amount >= sum of rewards where offer_completed per customer_id\n",
    "# indirect: sum of transaction_amount < sum of rewards where offer_completed per customer_id\n",
    "\n",
    "# sum transaction amount >= max difficulty >>>> direct_offer_completed ELSE indirect_offer_completed\n",
    "\n",
    "num_transactions_no_oc = trans_engage[trans_engage['offer_completed']==0].groupby('customer_id')['transaction_id'].nunique().reset_index()\n",
    "num_transactions_no_oc.rename(columns={'transaction_id': 'num_transactions_no_oc'}, inplace=True)\n",
    "\n",
    "doc = trans_engage[trans_engage['offer_completed']==1].groupby(['customer_id',\n",
    "                                                                'transaction_id',\n",
    "                                                                'transaction_amount'])['difficulty'].max().reset_index()\n",
    "\n",
    "num_transactions_oc_direct = doc[doc['transaction_amount'] >= doc['difficulty']].groupby('customer_id')['transaction_id'].nunique().reset_index()\n",
    "num_transactions_oc_direct.rename(columns={'transaction_id': 'num_transactions_oc_direct'}, inplace=True)\n",
    "\n",
    "num_transactions_oc_indirect = doc[doc['transaction_amount'] < doc['difficulty']].groupby('customer_id')['transaction_id'].nunique().reset_index()\n",
    "num_transactions_oc_indirect.rename(columns={'transaction_id': 'num_transactions_oc_indirect'}, inplace=True)\n"
   ]
  },
  {
   "cell_type": "code",
   "execution_count": 47,
   "metadata": {},
   "outputs": [],
   "source": [
    "feature_list = [num_transactions_no_oc, num_transactions_oc_direct, num_transactions_oc_indirect]\n",
    "\n",
    "for df_feature in feature_list:\n",
    "    feature_name = df_feature.columns[1]    \n",
    "    X_train = X_train.merge(df_feature, how='left', on='customer_id')\n",
    "    X_train[feature_name] = X_train[feature_name].fillna(0)\n",
    "\n",
    "for df_feature in feature_list:\n",
    "    feature_name = df_feature.columns[1]\n",
    "    X_test = X_test.merge(df_feature, how='left', on='customer_id')\n",
    "    X_test[feature_name] = X_test[feature_name].fillna(0)"
   ]
  },
  {
   "cell_type": "code",
   "execution_count": 48,
   "metadata": {},
   "outputs": [],
   "source": [
    "# percent_oc_direct_transacions feature\n",
    "X_train['percent_oc_direct_transactions'] = round(X_train['num_transactions_oc_direct'] / X_train['transaction_cnt'], 4)\n",
    "X_train['percent_oc_direct_transactions'].fillna(0, inplace = True)\n",
    "\n",
    "X_test['percent_oc_direct_transactions'] = round(X_test['num_transactions_oc_direct'] / X_test['transaction_cnt'], 4)\n",
    "X_test['percent_oc_direct_transactions'].fillna(0, inplace = True)\n"
   ]
  },
  {
   "cell_type": "markdown",
   "metadata": {},
   "source": [
    "## Features\n",
    "* offer_view_rate: offers viewed / offers received ratio\n",
    "* offer_completion_rate: offers completed / (offers received - info offer received) ratio\n",
    "* total_reward_amount\n",
    "* avg_reward_per_oc_transaction\n",
    "***\n",
    "* transaction_oc_amount\n",
    "* transaction_aos_oc\n",
    "* transaction_no_oc_amount\n",
    "* transaction_aos_no_oc\n",
    "***\n",
    "* num_bogo_offer_viewed\n",
    "* num_info_offer_viewed\n",
    "* num_discount_offer_viewed\n",
    "***\n",
    "* num_bogo_offer_completed\n",
    "* num_info_offer_completed\n",
    "* num_discount_offer_completed"
   ]
  },
  {
   "cell_type": "code",
   "execution_count": 49,
   "metadata": {},
   "outputs": [],
   "source": [
    "# Feature: offer_view_rate = X_train.num_offer_viewed / X_train.num_offer_received\n",
    "# Feature: offer_completion_rate = X_train.num_offer_completed / (X_train.num_offer_received - X_train.num_info_offer_received)\n",
    "\n",
    "X_train['offer_view_rate'] = round(1.0 * X_train.num_offer_viewed / X_train.num_offer_received, 2)\n",
    "X_train['offer_view_rate'].fillna(0, inplace = True)\n",
    "X_train['offer_completion_rate'] = round(1.0 * X_train.num_offer_completed / (X_train.num_offer_received - X_train.num_info_offer_received), 2)\n",
    "X_train['offer_completion_rate'].fillna(0, inplace = True)\n",
    "\n",
    "X_test['offer_view_rate'] = round(1.0 * X_test.num_offer_viewed / X_test.num_offer_received, 2)\n",
    "X_test['offer_view_rate'].fillna(0, inplace = True)\n",
    "X_test['offer_completion_rate'] = round(1.0 * X_test.num_offer_completed / (X_test.num_offer_received - X_test.num_info_offer_received), 2)\n",
    "X_test['offer_completion_rate'].fillna(0, inplace = True)\n"
   ]
  },
  {
   "cell_type": "code",
   "execution_count": 50,
   "metadata": {},
   "outputs": [],
   "source": [
    "# Feature: total_reward_amount\n",
    "total_reward_amount = trans_engage.groupby('customer_id')['reward'].sum().reset_index()\n",
    "total_reward_amount.rename(columns={'reward': 'total_reward_amount'}, inplace=True)\n",
    "\n",
    "X_train = X_train.merge(total_reward_amount, how='left', on='customer_id')\n",
    "X_train['total_reward_amount'].fillna(0, inplace=True)\n",
    "\n",
    "X_test = X_test.merge(total_reward_amount, how='left', on='customer_id')\n",
    "X_test['total_reward_amount'].fillna(0, inplace=True)"
   ]
  },
  {
   "cell_type": "code",
   "execution_count": 51,
   "metadata": {},
   "outputs": [],
   "source": [
    "# Feature: avg_reward_per_oc_transaction\n",
    "X_train['avg_reward_per_oc_transaction'] = round(1.0 * X_train['total_reward_amount'] / (X_train['num_transactions_oc_direct'] + X_train['num_transactions_oc_indirect']), 2)\n",
    "X_train['avg_reward_per_oc_transaction'].fillna(0, inplace=True)\n",
    "\n",
    "X_test['avg_reward_per_oc_transaction'] = round(1.0 * X_test['total_reward_amount'] / (X_test['num_transactions_oc_direct'] + X_test['num_transactions_oc_indirect']), 2)\n",
    "X_test['avg_reward_per_oc_transaction'].fillna(0, inplace=True)\n"
   ]
  },
  {
   "cell_type": "code",
   "execution_count": 52,
   "metadata": {},
   "outputs": [],
   "source": [
    "# Features: transaction_oc_amount, transaction_aos_oc, transaction_no_oc_amount, transaction_aos_no_oc\n",
    "transaction_oc_amount = trans_engage[trans_engage['offer_completed']==1].groupby('customer_id')['transaction_amount'].sum().reset_index()\n",
    "transaction_oc_amount.rename(columns={'transaction_amount': 'transaction_oc_amount'}, inplace=True)\n",
    "\n",
    "transaction_no_oc_amount = trans_engage[trans_engage['offer_completed']==0].groupby('customer_id')['transaction_amount'].sum().reset_index()\n",
    "transaction_no_oc_amount.rename(columns={'transaction_amount': 'transaction_no_oc_amount'}, inplace=True)\n",
    "\n",
    "X_train = X_train.merge(transaction_oc_amount, how='left', on='customer_id')\n",
    "X_train['transaction_oc_amount'].fillna(0, inplace=True)\n",
    "X_train['transaction_aos_oc'] = 1.0 * X_train['transaction_oc_amount'] / (X_train['num_transactions_oc_direct'] + X_train['num_transactions_oc_indirect'])\n",
    "X_train['transaction_aos_oc'].fillna(0, inplace=True)\n",
    "\n",
    "X_train = X_train.merge(transaction_no_oc_amount, how='left', on='customer_id')\n",
    "X_train['transaction_no_oc_amount'].fillna(0, inplace=True)\n",
    "X_train['transaction_aos_no_oc'] = 1.0 * X_train['transaction_no_oc_amount'] / X_train['num_transactions_no_oc']\n",
    "X_train['transaction_aos_no_oc'].fillna(0, inplace=True)\n",
    "\n",
    "X_test = X_test.merge(transaction_oc_amount, how='left', on='customer_id')\n",
    "X_test['transaction_oc_amount'].fillna(0, inplace=True)\n",
    "X_test['transaction_aos_oc'] = 1.0 * X_test['transaction_oc_amount'] / (X_test['num_transactions_oc_direct'] + X_test['num_transactions_oc_indirect'])\n",
    "X_test['transaction_aos_oc'].fillna(0, inplace=True)\n",
    "\n",
    "X_test = X_test.merge(transaction_no_oc_amount, how='left', on='customer_id')\n",
    "X_test['transaction_no_oc_amount'].fillna(0, inplace=True)\n",
    "X_test['transaction_aos_no_oc'] = 1.0 * X_test['transaction_no_oc_amount'] / X_test['num_transactions_no_oc']\n",
    "X_test['transaction_aos_no_oc'].fillna(0, inplace=True)\n"
   ]
  },
  {
   "cell_type": "code",
   "execution_count": 53,
   "metadata": {},
   "outputs": [],
   "source": [
    "# Features: num_bogo_offer_viewed, num_info_offer_viewed, num_discount_offer_viewed\n",
    "\n",
    "# merge df_viewed with df_portfolio\n",
    "offer_viewed_agg = df_viewed.merge(df_portfolio, how='left', on='offer_id')\n",
    "\n",
    "# bogo\n",
    "num_bogo_offer_viewed = offer_viewed_agg[offer_viewed_agg['type_bogo']==1].groupby('customer_id')['offer_viewed'].sum()\n",
    "num_bogo_offer_viewed = num_bogo_offer_viewed.reset_index().rename(columns={'offer_viewed': 'num_bogo_offer_viewed'})\n",
    "\n",
    "# informational\n",
    "num_info_offer_viewed = offer_viewed_agg[offer_viewed_agg['type_informational']==1].groupby('customer_id')['offer_viewed'].sum()\n",
    "num_info_offer_viewed = num_info_offer_viewed.reset_index().rename(columns={'offer_viewed': 'num_info_offer_viewed'})\n",
    "\n",
    "# discount\n",
    "num_discount_offer_viewed = offer_viewed_agg[offer_viewed_agg['type_discount']==1].groupby('customer_id')['offer_viewed'].sum()\n",
    "num_discount_offer_viewed = num_discount_offer_viewed.reset_index().rename(columns={'offer_viewed': 'num_discount_offer_viewed'})\n",
    "\n",
    "# append features to X_train and X_test\n",
    "feature_list = [num_bogo_offer_viewed, num_info_offer_viewed, num_discount_offer_viewed]\n",
    "\n",
    "for df_feature in feature_list:\n",
    "    feature_name = df_feature.columns[1]\n",
    "    X_train = X_train.merge(df_feature, how='left', on='customer_id')\n",
    "    X_train[feature_name] = X_train[feature_name].fillna(0) \n",
    "\n",
    "for df_feature in feature_list:\n",
    "    feature_name = df_feature.columns[1]\n",
    "    X_test = X_test.merge(df_feature, how='left', on='customer_id')\n",
    "    X_test[feature_name] = X_test[feature_name].fillna(0) \n"
   ]
  },
  {
   "cell_type": "code",
   "execution_count": 54,
   "metadata": {},
   "outputs": [],
   "source": [
    "# Features: num_bogo_offer_completed, num_info_offer_completed, num_discount_offer_completed\n",
    "\n",
    "# merge df_completed with df_portfolio\n",
    "offer_completed_agg = df_completed.merge(df_portfolio, how='left', on='offer_id')\n",
    "\n",
    "# bogo\n",
    "num_bogo_offer_completed = offer_completed_agg[offer_completed_agg['type_bogo']==1].groupby('customer_id')['offer_completed'].sum()\n",
    "num_bogo_offer_completed = num_bogo_offer_completed.reset_index().rename(columns={'offer_completed': 'num_bogo_offer_completed'})\n",
    "\n",
    "# informational\n",
    "num_info_offer_completed = offer_completed_agg[offer_completed_agg['type_informational']==1].groupby('customer_id')['offer_completed'].sum()\n",
    "num_info_offer_completed = num_info_offer_completed.reset_index().rename(columns={'offer_completed': 'num_info_offer_completed'})\n",
    "\n",
    "# discount\n",
    "num_discount_offer_completed = offer_completed_agg[offer_completed_agg['type_discount']==1].groupby('customer_id')['offer_completed'].sum()\n",
    "num_discount_offer_completed = num_discount_offer_completed.reset_index().rename(columns={'offer_completed': 'num_discount_offer_completed'})\n",
    "\n",
    "# append features to X_train and X_test\n",
    "feature_list = [num_bogo_offer_completed, num_info_offer_completed, num_discount_offer_completed]\n",
    "\n",
    "for df_feature in feature_list:\n",
    "    feature_name = df_feature.columns[1]\n",
    "    X_train = X_train.merge(df_feature, how='left', on='customer_id')\n",
    "    X_train[feature_name] = X_train[feature_name].fillna(0) \n",
    "\n",
    "for df_feature in feature_list:\n",
    "    feature_name = df_feature.columns[1]\n",
    "    X_test = X_test.merge(df_feature, how='left', on='customer_id')\n",
    "    X_test[feature_name] = X_test[feature_name].fillna(0) \n"
   ]
  },
  {
   "cell_type": "markdown",
   "metadata": {},
   "source": [
    "## Features\n",
    "* median_offer_duration\n",
    "* avg_offer_completion_time = sum(offer_completed_time - offer_received_time) / count(offer_completed)\n",
    "* avg hours between transactions if 2 or more transactions per customer_id\n",
    "* num_oc_ch_social\n",
    "* num_oc_ch_web\n",
    "* num_oc_ch_mobile\n",
    "* num_oc_ch_email"
   ]
  },
  {
   "cell_type": "markdown",
   "metadata": {},
   "source": [
    "### Feature: median_offer_duration"
   ]
  },
  {
   "cell_type": "code",
   "execution_count": 55,
   "metadata": {},
   "outputs": [],
   "source": [
    "# take median value of all offer durations per customer_id\n",
    "median_offer_duration = trans_engage[trans_engage['offer_completed']==1].groupby('customer_id')['duration'].median().reset_index()\n",
    "median_offer_duration.rename(columns={'duration': 'median_offer_duration'}, inplace=True)\n",
    "median_offer_duration.head()\n",
    "\n",
    "X_train = X_train.merge(median_offer_duration, how='left', on='customer_id')\n",
    "X_train['median_offer_duration'].fillna(0, inplace=True)\n",
    "\n",
    "X_test = X_test.merge(median_offer_duration, how='left', on='customer_id')\n",
    "X_test['median_offer_duration'].fillna(0, inplace=True)\n"
   ]
  },
  {
   "cell_type": "markdown",
   "metadata": {},
   "source": [
    "### Feature: avg_offer_completion_time"
   ]
  },
  {
   "cell_type": "code",
   "execution_count": 56,
   "metadata": {},
   "outputs": [],
   "source": [
    "# avg_offer_completion_time = sum(offer_completed_time - offer_received_time) / count(offer_completed)\n",
    "feature_columns = ['customer_id','offer_completed_time','offer_received_time','offer_completed']\n",
    "avg_oc_time_stg = trans_engage[trans_engage['offer_completed']==1][feature_columns]\n",
    "avg_oc_time_stg['oct-ort'] = avg_oc_time_stg['offer_completed_time'] - avg_oc_time_stg['offer_received_time']\n",
    "\n",
    "sum_diff_time = avg_oc_time_stg.groupby('customer_id')['oct-ort'].sum().reset_index()\n",
    "sum_offers_completed = avg_oc_time_stg.groupby('customer_id')['offer_completed'].sum().reset_index()\n",
    "\n",
    "avg_oc_time_stg_v2 = sum_diff_time.merge(sum_offers_completed, how='left', on='customer_id')\n",
    "avg_oc_time_stg_v2['avg_offer_completion_time'] = 1.0 * avg_oc_time_stg_v2['oct-ort'] / avg_oc_time_stg_v2['offer_completed']\n",
    "\n",
    "X_train = X_train.merge(avg_oc_time_stg_v2[['customer_id','avg_offer_completion_time']], how='left', on='customer_id')\n",
    "X_train['avg_offer_completion_time'].fillna(0, inplace=True)\n",
    "\n",
    "X_test = X_test.merge(avg_oc_time_stg_v2[['customer_id','avg_offer_completion_time']], how='left', on='customer_id')\n",
    "X_test['avg_offer_completion_time'].fillna(0, inplace=True)\n"
   ]
  },
  {
   "cell_type": "code",
   "execution_count": 57,
   "metadata": {},
   "outputs": [
    {
     "data": {
      "text/plain": [
       "<AxesSubplot:>"
      ]
     },
     "execution_count": 57,
     "metadata": {},
     "output_type": "execute_result"
    },
    {
     "data": {
      "image/png": "[encoded data removed]",
      "text/plain": [
       "<Figure size 432x288 with 1 Axes>"
      ]
     },
     "metadata": {
      "needs_background": "light"
     },
     "output_type": "display_data"
    }
   ],
   "source": [
    "avg_oc_time_stg_v2.avg_offer_completion_time.hist(bins=30, color='#A9C5D3', edgecolor='black')"
   ]
  },
  {
   "cell_type": "markdown",
   "metadata": {},
   "source": [
    "### Feature: avg_hrs_bw_transactions"
   ]
  },
  {
   "cell_type": "code",
   "execution_count": 58,
   "metadata": {},
   "outputs": [],
   "source": [
    "# For the function to work, starbucks_transaction_engagement.csv.gz has to be imported as a dataframe\n",
    "    # and call it, df_trans_engage\n",
    "# Function iterates over each customer_id and creates a list of all transaction_time per transaction_id\n",
    "# and calculates the difference between current and previous transaction, and then averages the spreads.\n",
    "# This calculates the average hours between transactions\n",
    "\n",
    "def avg_hrs_bw_trans(df_trans_engage) -> pd.DataFrame:\n",
    "    \n",
    "    df_transactions_stg = df_trans_engage.groupby(['transaction_id', 'customer_id', 'transaction_time'])['transaction_amount'].max().reset_index()\n",
    "    list_of_ids = df_transactions_stg.customer_id.unique()\n",
    "    \n",
    "    customer_ids = []\n",
    "    avg_hrs_bw_transactions = []\n",
    "    \n",
    "    counter = 0\n",
    "    for id_ in list_of_ids:\n",
    "        transaction_times = df_trans_engage[df_trans_engage['customer_id']==id_]['transaction_time']\n",
    "        transaction_times = sorted(transaction_times)\n",
    "        \n",
    "        if len(transaction_times) > 1:\n",
    "            diff_list = []\n",
    "            n = len(transaction_times) - 1\n",
    "            for idx in range(n):\n",
    "                t1 = transaction_times[idx]\n",
    "                t2 = transaction_times[idx+1]\n",
    "                diff = t2 - t1\n",
    "                diff_list.append(diff)\n",
    "            \n",
    "            avg_hrs = np.mean(diff_list)\n",
    "            customer_ids.append(id_)\n",
    "            avg_hrs_bw_transactions.append(avg_hrs)\n",
    "            counter += 1\n",
    "        else:\n",
    "            customer_ids.append(id_)\n",
    "            avg_hrs_bw_transactions.append(0)\n",
    "            counter += 1\n",
    "        \n",
    "        if counter % 1000 == 0:\n",
    "            print('Number of customer_ids complete: {}'.format(counter))\n",
    "            \n",
    "    df = pd.DataFrame({'customer_id': customer_ids, 'avg_hrs_bw_transactions': avg_hrs_bw_transactions})\n",
    "    print('df build complete.')\n",
    "    return df"
   ]
  },
  {
   "cell_type": "code",
   "execution_count": 60,
   "metadata": {},
   "outputs": [
    {
     "name": "stdout",
     "output_type": "stream",
     "text": [
      "Number of customer_ids complete: 1000\n",
      "Number of customer_ids complete: 2000\n",
      "Number of customer_ids complete: 3000\n",
      "Number of customer_ids complete: 4000\n",
      "Number of customer_ids complete: 5000\n",
      "Number of customer_ids complete: 6000\n",
      "Number of customer_ids complete: 7000\n",
      "Number of customer_ids complete: 8000\n",
      "Number of customer_ids complete: 9000\n",
      "Number of customer_ids complete: 10000\n",
      "Number of customer_ids complete: 11000\n",
      "Number of customer_ids complete: 12000\n",
      "Number of customer_ids complete: 13000\n",
      "Number of customer_ids complete: 14000\n",
      "Number of customer_ids complete: 15000\n",
      "Number of customer_ids complete: 16000\n",
      "df build complete.\n",
      "CPU times: user 2min 39s, sys: 243 ms, total: 2min 40s\n",
      "Wall time: 2min 40s\n"
     ]
    }
   ],
   "source": [
    "%%time\n",
    "df_trans_engage = pd.read_csv('../data/starbucks_transaction_engagement.csv.gz', compression='gzip')\n",
    "avg_hrs_trans = avg_hrs_bw_trans(df_trans_engage)"
   ]
  },
  {
   "cell_type": "code",
   "execution_count": 61,
   "metadata": {},
   "outputs": [
    {
     "data": {
      "text/plain": [
       "<AxesSubplot:>"
      ]
     },
     "execution_count": 61,
     "metadata": {},
     "output_type": "execute_result"
    },
    {
     "data": {
      "image/png": "[encoded data removed]",
      "text/plain": [
       "<Figure size 432x288 with 1 Axes>"
      ]
     },
     "metadata": {
      "needs_background": "light"
     },
     "output_type": "display_data"
    }
   ],
   "source": [
    "avg_hrs_trans.avg_hrs_bw_transactions.hist(bins=40, color='lightblue', edgecolor='black')"
   ]
  },
  {
   "cell_type": "code",
   "execution_count": 62,
   "metadata": {},
   "outputs": [],
   "source": [
    "# append to X_train and X_test\n",
    "X_train = X_train.merge(avg_hrs_trans, how='left', on='customer_id')\n",
    "X_train['avg_hrs_bw_transactions'].fillna(0, inplace=True)\n",
    "\n",
    "X_test = X_test.merge(avg_hrs_trans, how='left', on='customer_id')\n",
    "X_test['avg_hrs_bw_transactions'].fillna(0, inplace=True)"
   ]
  },
  {
   "cell_type": "markdown",
   "metadata": {},
   "source": [
    "### Features: num_oc_ch_social, num_oc_ch_web, num_oc_ch_mobile, num_oc_ch_email"
   ]
  },
  {
   "cell_type": "code",
   "execution_count": 63,
   "metadata": {},
   "outputs": [],
   "source": [
    "# num_oc_ch_social, num_oc_ch_web, num_oc_ch_mobile, num_oc_ch_email\n",
    "\n",
    "num_oc_by_channel = trans_engage[trans_engage['offer_completed']==1].groupby('customer_id')['ch_web',\n",
    "                                                                        'ch_social',\n",
    "                                                                        'ch_mobile',\n",
    "                                                                        'ch_email'].sum().reset_index()\n",
    "num_oc_by_channel.rename(columns={'ch_web': 'num_oc_ch_web',\n",
    "                                  'ch_social': 'num_oc_ch_social',\n",
    "                                  'ch_mobile': 'num_oc_ch_mobile',\n",
    "                                  'ch_email': 'num_oc_ch_email'}, inplace=True)\n",
    "\n",
    "X_train = X_train.merge(num_oc_by_channel, how='left', on='customer_id')\n",
    "\n",
    "X_test = X_test.merge(num_oc_by_channel, how='left', on='customer_id')\n",
    "\n",
    "features = ['num_oc_ch_social', 'num_oc_ch_web', 'num_oc_ch_mobile', 'num_oc_ch_email']\n",
    "for feature in features:\n",
    "    X_train[feature].fillna(0, inplace=True)\n",
    "    X_test[feature].fillna(0, inplace=True)\n"
   ]
  },
  {
   "cell_type": "markdown",
   "metadata": {},
   "source": [
    "## Features\n",
    "* avg_offer_received_feq\n",
    "* info_view_rate"
   ]
  },
  {
   "cell_type": "code",
   "execution_count": 66,
   "metadata": {},
   "outputs": [],
   "source": [
    "# Avg offer received frequency (avg_offer_received_freq)\n",
    "import numpy as np\n",
    "from base_transforms import BaseTransformDF\n",
    "\n",
    "def avg_offer_received_frequency():\n",
    "    transcript = pd.read_json('../data/transcript.json', orient='records', lines=True)\n",
    "    df_base = BaseTransformDF()\n",
    "    df_transcript = df_base.create_transcript_copy(transcript)\n",
    "    df_received = df_base.create_df_base_received(df_transcript)\n",
    "\n",
    "    customer_ids = df_received.customer_id.unique()\n",
    "    customer_id = []\n",
    "    avg_or_freq = []\n",
    "\n",
    "    counter = 1\n",
    "    for id_ in customer_ids:\n",
    "        time_series = df_received[df_received['customer_id']==id_].offer_received_time.to_list()\n",
    "        n = len(time_series)\n",
    "\n",
    "        if n > 1:\n",
    "            t_diff = []\n",
    "            for idx in range(n-1):\n",
    "                t1 = time_series[idx]\n",
    "                t2 = time_series[idx+1]\n",
    "                diff = t2 - t1\n",
    "                t_diff.append(diff)\n",
    "\n",
    "            t_mean = np.mean(t_diff)\n",
    "            avg_or_freq.append(t_mean)\n",
    "            customer_id.append(id_)\n",
    "            counter += 1\n",
    "        else:\n",
    "            t_single = time_series[0]\n",
    "            avg_or_freq.append(t_single)\n",
    "            customer_id.append(id_)\n",
    "            counter += 1\n",
    "\n",
    "        if counter % 1000 == 0:\n",
    "            print(\"Number of customer_ids completed: {}\".format(counter))\n",
    "\n",
    "    df = pd.DataFrame({'customer_id': customer_id, 'avg_offer_received_freq': avg_or_freq})\n",
    "\n",
    "    return df"
   ]
  },
  {
   "cell_type": "code",
   "execution_count": 67,
   "metadata": {},
   "outputs": [
    {
     "name": "stdout",
     "output_type": "stream",
     "text": [
      "Number of customer_ids completed: 1000\n",
      "Number of customer_ids completed: 2000\n",
      "Number of customer_ids completed: 3000\n",
      "Number of customer_ids completed: 4000\n",
      "Number of customer_ids completed: 5000\n",
      "Number of customer_ids completed: 6000\n",
      "Number of customer_ids completed: 7000\n",
      "Number of customer_ids completed: 8000\n",
      "Number of customer_ids completed: 9000\n",
      "Number of customer_ids completed: 10000\n",
      "Number of customer_ids completed: 11000\n",
      "Number of customer_ids completed: 12000\n",
      "Number of customer_ids completed: 13000\n",
      "Number of customer_ids completed: 14000\n",
      "Number of customer_ids completed: 15000\n",
      "Number of customer_ids completed: 16000\n",
      "CPU times: user 1min 25s, sys: 334 ms, total: 1min 26s\n",
      "Wall time: 1min 26s\n"
     ]
    }
   ],
   "source": [
    "%%time \n",
    "avg_offer_received_freq = avg_offer_received_frequency()"
   ]
  },
  {
   "cell_type": "code",
   "execution_count": 68,
   "metadata": {},
   "outputs": [
    {
     "data": {
      "text/plain": [
       "<AxesSubplot:xlabel='avg_offer_received_freq', ylabel='Density'>"
      ]
     },
     "execution_count": 68,
     "metadata": {},
     "output_type": "execute_result"
    },
    {
     "data": {
      "image/png": "[encoded data removed]",
      "text/plain": [
       "<Figure size 432x288 with 1 Axes>"
      ]
     },
     "metadata": {
      "needs_background": "light"
     },
     "output_type": "display_data"
    }
   ],
   "source": [
    "import seaborn as sns\n",
    "\n",
    "# Density Plot and Histogram \n",
    "sns.distplot(avg_offer_received_freq['avg_offer_received_freq'], \n",
    "             hist=True, \n",
    "             kde=True, \n",
    "             bins=20, \n",
    "             color = 'darkblue', \n",
    "             hist_kws={'edgecolor':'black'},\n",
    "             kde_kws={'linewidth': 4})"
   ]
  },
  {
   "cell_type": "code",
   "execution_count": 69,
   "metadata": {},
   "outputs": [],
   "source": [
    "X_train = X_train.merge(avg_offer_received_freq, how='left', on='customer_id')\n",
    "X_train['avg_offer_received_freq'].fillna(0, inplace=True)\n",
    "\n",
    "X_test = X_test.merge(avg_offer_received_freq, how='left', on='customer_id')\n",
    "X_test['avg_offer_received_freq'].fillna(0, inplace=True)\n"
   ]
  },
  {
   "cell_type": "code",
   "execution_count": 70,
   "metadata": {},
   "outputs": [],
   "source": [
    "# info view rate\n",
    "\n",
    "X_train['info_view_rate'] = 1.0 * X_train['num_info_offer_viewed'] / X_train['num_info_offer_received']\n",
    "X_train['info_view_rate'].fillna(0, inplace=True)\n",
    "\n",
    "X_test['info_view_rate'] = 1.0 * X_test['num_info_offer_viewed'] / X_test['num_info_offer_received']\n",
    "X_test['info_view_rate'].fillna(0, inplace=True)\n"
   ]
  },
  {
   "cell_type": "code",
   "execution_count": 71,
   "metadata": {},
   "outputs": [
    {
     "data": {
      "text/plain": [
       "<AxesSubplot:xlabel='info_view_rate', ylabel='Density'>"
      ]
     },
     "execution_count": 71,
     "metadata": {},
     "output_type": "execute_result"
    },
    {
     "data": {
      "image/png": "[encoded data removed]",
      "text/plain": [
       "<Figure size 432x288 with 1 Axes>"
      ]
     },
     "metadata": {
      "needs_background": "light"
     },
     "output_type": "display_data"
    }
   ],
   "source": [
    "sns.distplot(X_train[X_train['num_info_offer_received'] > 0]['info_view_rate'], \n",
    "             hist=True, \n",
    "             kde=True, \n",
    "             bins=10, \n",
    "             color = 'darkblue', \n",
    "             hist_kws={'edgecolor':'black'},\n",
    "             kde_kws={'linewidth': 4})"
   ]
  },
  {
   "cell_type": "markdown",
   "metadata": {},
   "source": [
    "## Save X_train & X_test as csv.gzip files"
   ]
  },
  {
   "cell_type": "code",
   "execution_count": 72,
   "metadata": {},
   "outputs": [
    {
     "name": "stdout",
     "output_type": "stream",
     "text": [
      "(11390, 53)\n",
      "(5610, 53)\n"
     ]
    }
   ],
   "source": [
    "print(X_train.shape)\n",
    "print(X_test.shape)"
   ]
  },
  {
   "cell_type": "code",
   "execution_count": 76,
   "metadata": {},
   "outputs": [
    {
     "name": "stdout",
     "output_type": "stream",
     "text": [
      "Success: train_starbucks.csv.gz created\n",
      "  File_path_name: ../data/train_starbucks.csv.gz\n",
      "Success: test_starbucks.csv.gz created\n",
      "  File_path_name: ../data/test_starbucks.csv.gz\n"
     ]
    }
   ],
   "source": [
    "# write df to gzipped csv file\n",
    "train_file = 'train_starbucks.csv.gz'\n",
    "test_file = 'test_starbucks.csv.gz'\n",
    "train_file_path = '../data/' + train_file\n",
    "test_file_path = '../data/' + test_file\n",
    "\n",
    "try:\n",
    "    X_train.to_csv(train_file_path, index=False, compression='gzip')\n",
    "    print(\"Success: {} created\".format(train_file))\n",
    "    print(\"  File_path_name: {}\".format(train_file_path))\n",
    "    X_test.to_csv(test_file_path, index=False, compression='gzip')\n",
    "    print(\"Success: {} created\".format(test_file))\n",
    "    print(\"  File_path_name: {}\".format(test_file_path))   \n",
    "except:\n",
    "    print(\"Error: File creations failed.\")"
   ]
  },
  {
   "cell_type": "markdown",
   "metadata": {},
   "source": [
    "## Import X_train and X_test from saved files"
   ]
  },
  {
   "cell_type": "code",
   "execution_count": 78,
   "metadata": {},
   "outputs": [
    {
     "name": "stdout",
     "output_type": "stream",
     "text": [
      "(11390, 53)\n",
      "(5610, 53)\n",
      "CPU times: user 143 ms, sys: 29.2 ms, total: 173 ms\n",
      "Wall time: 172 ms\n"
     ]
    }
   ],
   "source": [
    "%%time\n",
    "\n",
    "train_file = 'train_starbucks.csv.gz'\n",
    "test_file = 'test_starbucks.csv.gz'\n",
    "\n",
    "pd.set_option('display.max_columns', None)\n",
    "# pd.set_option('display.max_rows', <number of rows>)\n",
    "\n",
    "X_train = pd.read_csv('../data/' + train_file, compression='gzip')\n",
    "X_test = pd.read_csv('../data/' + test_file, compression='gzip')\n",
    "\n",
    "print(X_train.shape)\n",
    "print(X_test.shape)"
   ]
  },
  {
   "cell_type": "code",
   "execution_count": 79,
   "metadata": {},
   "outputs": [
    {
     "data": {
      "text/html": [
       "<div>\n",
       "<style scoped>\n",
       "    .dataframe tbody tr th:only-of-type {\n",
       "        vertical-align: middle;\n",
       "    }\n",
       "\n",
       "    .dataframe tbody tr th {\n",
       "        vertical-align: top;\n",
       "    }\n",
       "\n",
       "    .dataframe thead th {\n",
       "        text-align: right;\n",
       "    }\n",
       "</style>\n",
       "<table border=\"1\" class=\"dataframe\">\n",
       "  <thead>\n",
       "    <tr style=\"text-align: right;\">\n",
       "      <th></th>\n",
       "      <th>index</th>\n",
       "      <th>missing</th>\n",
       "    </tr>\n",
       "  </thead>\n",
       "  <tbody>\n",
       "  </tbody>\n",
       "</table>\n",
       "</div>"
      ],
      "text/plain": [
       "Empty DataFrame\n",
       "Columns: [index, missing]\n",
       "Index: []"
      ]
     },
     "execution_count": 79,
     "metadata": {},
     "output_type": "execute_result"
    }
   ],
   "source": [
    "df_train = X_train.isnull().mean().reset_index().rename(columns={0: 'missing'})\n",
    "df_train[df_train['missing'] > 0]"
   ]
  },
  {
   "cell_type": "code",
   "execution_count": 80,
   "metadata": {},
   "outputs": [
    {
     "data": {
      "text/html": [
       "<div>\n",
       "<style scoped>\n",
       "    .dataframe tbody tr th:only-of-type {\n",
       "        vertical-align: middle;\n",
       "    }\n",
       "\n",
       "    .dataframe tbody tr th {\n",
       "        vertical-align: top;\n",
       "    }\n",
       "\n",
       "    .dataframe thead th {\n",
       "        text-align: right;\n",
       "    }\n",
       "</style>\n",
       "<table border=\"1\" class=\"dataframe\">\n",
       "  <thead>\n",
       "    <tr style=\"text-align: right;\">\n",
       "      <th></th>\n",
       "      <th>index</th>\n",
       "      <th>missing</th>\n",
       "    </tr>\n",
       "  </thead>\n",
       "  <tbody>\n",
       "  </tbody>\n",
       "</table>\n",
       "</div>"
      ],
      "text/plain": [
       "Empty DataFrame\n",
       "Columns: [index, missing]\n",
       "Index: []"
      ]
     },
     "execution_count": 80,
     "metadata": {},
     "output_type": "execute_result"
    }
   ],
   "source": [
    "df_test = X_test.isnull().mean().reset_index().rename(columns={0: 'missing'})\n",
    "df_test[df_test['missing'] > 0]"
   ]
  },
  {
   "cell_type": "code",
   "execution_count": null,
   "metadata": {},
   "outputs": [],
   "source": []
  },
  {
   "cell_type": "code",
   "execution_count": null,
   "metadata": {},
   "outputs": [],
   "source": []
  }
 ],
 "metadata": {
  "kernelspec": {
   "display_name": "Python 3",
   "language": "python",
   "name": "python3"
  },
  "language_info": {
   "codemirror_mode": {
    "name": "ipython",
    "version": 3
   },
   "file_extension": ".py",
   "mimetype": "text/x-python",
   "name": "python",
   "nbconvert_exporter": "python",
   "pygments_lexer": "ipython3",
   "version": "3.7.4"
  }
 },
 "nbformat": 4,
 "nbformat_minor": 2
}
